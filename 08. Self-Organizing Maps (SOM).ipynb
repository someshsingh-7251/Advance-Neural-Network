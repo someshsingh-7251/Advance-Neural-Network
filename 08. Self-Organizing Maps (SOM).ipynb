{
 "cells": [
  {
   "cell_type": "markdown",
   "id": "7cd0b85f",
   "metadata": {
    "papermill": {
     "duration": 0.00322,
     "end_time": "2025-10-02T05:50:21.117980",
     "exception": false,
     "start_time": "2025-10-02T05:50:21.114760",
     "status": "completed"
    },
    "tags": []
   },
   "source": [
    "# <center>Lab Sheet 8</center>"
   ]
  },
  {
   "cell_type": "markdown",
   "id": "8b65b14a",
   "metadata": {
    "papermill": {
     "duration": 0.002316,
     "end_time": "2025-10-02T05:50:21.123324",
     "exception": false,
     "start_time": "2025-10-02T05:50:21.121008",
     "status": "completed"
    },
    "tags": []
   },
   "source": [
    "# <center>Self-Organizing Maps (SOM)<center>"
   ]
  },
  {
   "cell_type": "code",
   "execution_count": 1,
   "id": "f655451a",
   "metadata": {
    "execution": {
     "iopub.execute_input": "2025-10-02T05:50:21.129793Z",
     "iopub.status.busy": "2025-10-02T05:50:21.129392Z",
     "iopub.status.idle": "2025-10-02T05:50:35.633307Z",
     "shell.execute_reply": "2025-10-02T05:50:35.632243Z"
    },
    "papermill": {
     "duration": 14.50928,
     "end_time": "2025-10-02T05:50:35.635191",
     "exception": false,
     "start_time": "2025-10-02T05:50:21.125911",
     "status": "completed"
    },
    "tags": []
   },
   "outputs": [
    {
     "name": "stdout",
     "output_type": "stream",
     "text": [
      "Name: Somesh Singh\n",
      "Roll Number: 233025921\n"
     ]
    }
   ],
   "source": [
    "import numpy as np\n",
    "import matplotlib.pyplot as plt\n",
    "from sklearn.cluster import KMeans\n",
    "from sklearn.metrics import accuracy_score\n",
    "from sklearn.datasets import load_digits\n",
    "from sklearn.preprocessing import MinMaxScaler\n",
    "import torch\n",
    "from torchvision import datasets, transforms\n",
    "\n",
    "np.random.seed(42)\n",
    "\n",
    "# Print the name and roll number\n",
    "print(\"Name: Somesh Singh\")\n",
    "print(\"Roll Number: 233025921\")"
   ]
  },
  {
   "cell_type": "markdown",
   "id": "b3a4740e",
   "metadata": {
    "papermill": {
     "duration": 0.002646,
     "end_time": "2025-10-02T05:50:35.641008",
     "exception": false,
     "start_time": "2025-10-02T05:50:35.638362",
     "status": "completed"
    },
    "tags": []
   },
   "source": [
    "**Q1. Implement a 1D SOM for color clustering using RGB vectors.**"
   ]
  },
  {
   "cell_type": "code",
   "execution_count": 2,
   "id": "bbda4fd4",
   "metadata": {
    "execution": {
     "iopub.execute_input": "2025-10-02T05:50:35.648230Z",
     "iopub.status.busy": "2025-10-02T05:50:35.647624Z",
     "iopub.status.idle": "2025-10-02T05:50:35.963019Z",
     "shell.execute_reply": "2025-10-02T05:50:35.961936Z"
    },
    "papermill": {
     "duration": 0.32084,
     "end_time": "2025-10-02T05:50:35.964549",
     "exception": false,
     "start_time": "2025-10-02T05:50:35.643709",
     "status": "completed"
    },
    "tags": []
   },
   "outputs": [
    {
     "name": "stdout",
     "output_type": "stream",
     "text": [
      "Name: Somesh Singh\n",
      "Roll Number: 233025921\n"
     ]
    }
   ],
   "source": [
    "class SOM1D:\n",
    "    def __init__(self, num_neurons=8, dim=3, lr=0.5, sigma=1.0, epochs=100):\n",
    "        self.num_neurons = num_neurons\n",
    "        self.dim = dim\n",
    "        self.lr = lr\n",
    "        self.sigma = sigma\n",
    "        self.epochs = epochs\n",
    "        self.weights = np.random.rand(num_neurons, dim)\n",
    "\n",
    "    def _neighborhood(self, bmu_idx, t):\n",
    "        d = np.abs(np.arange(self.num_neurons) - bmu_idx)\n",
    "        return np.exp(-(d**2) / (2 * (self.sigma * (1 - t/self.epochs))**2))\n",
    "\n",
    "    def fit(self, X):\n",
    "        for t in range(self.epochs):\n",
    "            for x in X:\n",
    "                dists = np.linalg.norm(self.weights - x, axis=1)\n",
    "                bmu_idx = np.argmin(dists)\n",
    "                h = self._neighborhood(bmu_idx, t)\n",
    "                self.weights += self.lr * h[:, np.newaxis] * (x - self.weights)\n",
    "\n",
    "colors = np.array([\n",
    "    [1,0,0],[0,1,0],[0,0,1],\n",
    "    [1,1,0],[1,0,1],[0,1,1],[0.5,0.5,0.5]\n",
    "])\n",
    "som1d = SOM1D(num_neurons=8, epochs=200)\n",
    "som1d.fit(colors)\n",
    "\n",
    "plt.figure(figsize=(6,2))\n",
    "plt.title(\"Q1: 1D SOM for Color Clustering\")\n",
    "for i,w in enumerate(som1d.weights):\n",
    "    plt.scatter(i,0,c=w.reshape(1,-1),s=500)\n",
    "plt.axis(\"off\")\n",
    "plt.savefig(\"lab8_q1_som1d_colors.png\",dpi=150,bbox_inches=\"tight\"); plt.close()\n",
    "\n",
    "# Print the name and roll number\n",
    "print(\"Name: Somesh Singh\")\n",
    "print(\"Roll Number: 233025921\")"
   ]
  },
  {
   "cell_type": "markdown",
   "id": "2881d8dd",
   "metadata": {
    "papermill": {
     "duration": 0.002635,
     "end_time": "2025-10-02T05:50:35.970125",
     "exception": false,
     "start_time": "2025-10-02T05:50:35.967490",
     "status": "completed"
    },
    "tags": []
   },
   "source": [
    "**Q2. Train a 2D SOM to cluster handwritten digits (MNIST subset).**"
   ]
  },
  {
   "cell_type": "code",
   "execution_count": 3,
   "id": "d5e68a29",
   "metadata": {
    "execution": {
     "iopub.execute_input": "2025-10-02T05:50:35.977133Z",
     "iopub.status.busy": "2025-10-02T05:50:35.976799Z",
     "iopub.status.idle": "2025-10-02T05:50:46.231101Z",
     "shell.execute_reply": "2025-10-02T05:50:46.230007Z"
    },
    "papermill": {
     "duration": 10.259839,
     "end_time": "2025-10-02T05:50:46.232897",
     "exception": false,
     "start_time": "2025-10-02T05:50:35.973058",
     "status": "completed"
    },
    "tags": []
   },
   "outputs": [
    {
     "name": "stdout",
     "output_type": "stream",
     "text": [
      "Name: Somesh Singh\n",
      "Roll Number: 233025921\n"
     ]
    }
   ],
   "source": [
    "class SOM2D:\n",
    "    def __init__(self, m=10, n=10, dim=64, lr=0.5, sigma=None, epochs=100):\n",
    "        self.m, self.n, self.dim = m, n, dim\n",
    "        self.lr = lr\n",
    "        self.epochs = epochs\n",
    "        self.sigma = sigma if sigma else max(m,n)/2\n",
    "        self.weights = np.random.rand(m*n, dim)\n",
    "\n",
    "    def _grid_dist(self, bmu_idx):\n",
    "        bx, by = divmod(bmu_idx, self.n)\n",
    "        gx, gy = np.meshgrid(np.arange(self.m), np.arange(self.n), indexing=\"ij\")\n",
    "        return (gx-bx)**2 + (gy-by)**2\n",
    "\n",
    "    def fit(self,X):\n",
    "        for t in range(self.epochs):\n",
    "            for x in X:\n",
    "                dists = np.linalg.norm(self.weights - x, axis=1)\n",
    "                bmu = np.argmin(dists)\n",
    "                gdist = self._grid_dist(bmu)\n",
    "                h = np.exp(-gdist / (2*(self.sigma*(1-t/self.epochs))**2))\n",
    "                h = h.reshape(-1,1)\n",
    "                self.weights += self.lr * h * (x - self.weights)\n",
    "\n",
    "# Print the name and roll number\n",
    "print(\"Name: Somesh Singh\")\n",
    "print(\"Roll Number: 233025921\")\n",
    "\n",
    "# Use sklearn digits (8x8 subset of MNIST for speed)\n",
    "digits = load_digits()\n",
    "X_digits = MinMaxScaler().fit_transform(digits.data)\n",
    "y_digits = digits.target\n",
    "\n",
    "som2d = SOM2D(m=10,n=10,dim=64,epochs=50)\n",
    "som2d.fit(X_digits)       "
   ]
  },
  {
   "cell_type": "markdown",
   "id": "492c1d94",
   "metadata": {
    "papermill": {
     "duration": 0.002834,
     "end_time": "2025-10-02T05:50:46.239810",
     "exception": false,
     "start_time": "2025-10-02T05:50:46.236976",
     "status": "completed"
    },
    "tags": []
   },
   "source": [
    "**Q3. Visualize SOM feature map and U-matrix distance using Matplotlib.**"
   ]
  },
  {
   "cell_type": "code",
   "execution_count": 4,
   "id": "f04429a9",
   "metadata": {
    "execution": {
     "iopub.execute_input": "2025-10-02T05:50:46.248417Z",
     "iopub.status.busy": "2025-10-02T05:50:46.247563Z",
     "iopub.status.idle": "2025-10-02T05:50:46.648908Z",
     "shell.execute_reply": "2025-10-02T05:50:46.647773Z"
    },
    "papermill": {
     "duration": 0.407655,
     "end_time": "2025-10-02T05:50:46.650597",
     "exception": false,
     "start_time": "2025-10-02T05:50:46.242942",
     "status": "completed"
    },
    "tags": []
   },
   "outputs": [
    {
     "name": "stdout",
     "output_type": "stream",
     "text": [
      "Name: Somesh Singh\n",
      "Roll Number: 233025921\n"
     ]
    }
   ],
   "source": [
    "def u_matrix(som, m, n):\n",
    "    W = som.weights.reshape(m,n,-1)\n",
    "    U = np.zeros((m,n))\n",
    "    for i in range(m):\n",
    "        for j in range(n):\n",
    "            d = 0; cnt = 0\n",
    "            for dx,dy in [(0,1),(1,0),(-1,0),(0,-1)]:\n",
    "                if 0<=i+dx<m and 0<=j+dy<n:\n",
    "                    d += np.linalg.norm(W[i,j]-W[i+dx,j+dy])\n",
    "                    cnt += 1\n",
    "            U[i,j] = d/cnt\n",
    "    return U\n",
    "\n",
    "# Print the name and roll number\n",
    "print(\"Name: Somesh Singh\")\n",
    "print(\"Roll Number: 233025921\")\n",
    "\n",
    "U = u_matrix(som2d,10,10)\n",
    "plt.imshow(U,cmap=\"bone\")\n",
    "plt.title(\"Q3: SOM U-Matrix\")\n",
    "plt.colorbar()\n",
    "plt.savefig(\"lab8_q3_umatrix.png\",dpi=150,bbox_inches=\"tight\"); plt.close()"
   ]
  },
  {
   "cell_type": "markdown",
   "id": "d66301d0",
   "metadata": {
    "papermill": {
     "duration": 0.003069,
     "end_time": "2025-10-02T05:50:46.657365",
     "exception": false,
     "start_time": "2025-10-02T05:50:46.654296",
     "status": "completed"
    },
    "tags": []
   },
   "source": [
    "**Q4. Compare SOM vs KMeans for unsupervised image segmentation.**"
   ]
  },
  {
   "cell_type": "code",
   "execution_count": 5,
   "id": "184ba6f9",
   "metadata": {
    "execution": {
     "iopub.execute_input": "2025-10-02T05:50:46.665181Z",
     "iopub.status.busy": "2025-10-02T05:50:46.664842Z",
     "iopub.status.idle": "2025-10-02T05:50:57.795517Z",
     "shell.execute_reply": "2025-10-02T05:50:57.794507Z"
    },
    "papermill": {
     "duration": 11.136812,
     "end_time": "2025-10-02T05:50:57.797211",
     "exception": false,
     "start_time": "2025-10-02T05:50:46.660399",
     "status": "completed"
    },
    "tags": []
   },
   "outputs": [
    {
     "name": "stdout",
     "output_type": "stream",
     "text": [
      "Name: Somesh Singh\n",
      "Roll Number: 233025921\n"
     ]
    },
    {
     "name": "stderr",
     "output_type": "stream",
     "text": [
      "/usr/local/lib/python3.11/dist-packages/sklearn/cluster/_kmeans.py:870: FutureWarning: The default value of `n_init` will change from 10 to 'auto' in 1.4. Set the value of `n_init` explicitly to suppress the warning\n",
      "  warnings.warn(\n"
     ]
    }
   ],
   "source": [
    "from skimage import data\n",
    "from skimage.transform import resize\n",
    "\n",
    "img = resize(data.astronaut(),(64,64))\n",
    "X_img = img.reshape(-1,3)\n",
    "\n",
    "# SOM clustering\n",
    "som_img = SOM1D(num_neurons=8,dim=3,epochs=100)\n",
    "som_img.fit(X_img)\n",
    "labels_som = np.argmin(((X_img[:,None,:]-som_img.weights[None,:,:])**2).sum(-1),axis=1)\n",
    "seg_som = som_img.weights[labels_som].reshape(img.shape)\n",
    "\n",
    "# Print the name and roll number\n",
    "print(\"Name: Somesh Singh\")\n",
    "print(\"Roll Number: 233025921\")\n",
    "\n",
    "# KMeans clustering\n",
    "km = KMeans(n_clusters=8, random_state=42).fit(X_img)\n",
    "seg_km = km.cluster_centers_[km.labels_].reshape(img.shape)\n",
    "\n",
    "fig,ax=plt.subplots(1,3,figsize=(12,4))\n",
    "ax[0].imshow(img); ax[0].set_title(\"Original\")\n",
    "ax[1].imshow(seg_som); ax[1].set_title(\"Q4: SOM Segmentation\")\n",
    "ax[2].imshow(seg_km); ax[2].set_title(\"KMeans Segmentation\")\n",
    "for a in ax: a.axis(\"off\")\n",
    "plt.savefig(\"lab8_q4_som_vs_kmeans.png\",dpi=150,bbox_inches=\"tight\"); plt.close()"
   ]
  },
  {
   "cell_type": "markdown",
   "id": "9b98b380",
   "metadata": {
    "papermill": {
     "duration": 0.002763,
     "end_time": "2025-10-02T05:50:57.803104",
     "exception": false,
     "start_time": "2025-10-02T05:50:57.800341",
     "status": "completed"
    },
    "tags": []
   },
   "source": [
    "**Q5. Implement Learning Vector Quantization (LVQ) with labeled data.**"
   ]
  },
  {
   "cell_type": "code",
   "execution_count": 6,
   "id": "87ca0472",
   "metadata": {
    "execution": {
     "iopub.execute_input": "2025-10-02T05:50:57.810733Z",
     "iopub.status.busy": "2025-10-02T05:50:57.810215Z",
     "iopub.status.idle": "2025-10-02T05:50:58.475573Z",
     "shell.execute_reply": "2025-10-02T05:50:58.474366Z"
    },
    "papermill": {
     "duration": 0.671334,
     "end_time": "2025-10-02T05:50:58.477418",
     "exception": false,
     "start_time": "2025-10-02T05:50:57.806084",
     "status": "completed"
    },
    "tags": []
   },
   "outputs": [
    {
     "name": "stdout",
     "output_type": "stream",
     "text": [
      "Name: Somesh Singh\n",
      "Roll Number: 233025921\n",
      "Q5: LVQ training accuracy: 0.9120756816917084\n"
     ]
    }
   ],
   "source": [
    "# Print the name and roll number\n",
    "print(\"Name: Somesh Singh\")\n",
    "print(\"Roll Number: 233025921\")\n",
    "\n",
    "class LVQ:\n",
    "    def __init__(self, prototypes_per_class=1, lr=0.1, epochs=10):\n",
    "        self.prototypes_per_class = prototypes_per_class\n",
    "        self.lr = lr\n",
    "        self.epochs = epochs\n",
    "\n",
    "    def fit(self, X, y):\n",
    "        classes = np.unique(y)\n",
    "        self.prototypes = []\n",
    "        self.proto_labels = []\n",
    "        for c in classes:\n",
    "            idx = np.where(y==c)[0][:self.prototypes_per_class]\n",
    "            self.prototypes.append(X[idx])\n",
    "            self.proto_labels.extend([c]*len(idx))\n",
    "        self.prototypes = np.vstack(self.prototypes)\n",
    "\n",
    "        for _ in range(self.epochs):\n",
    "            for i,x in enumerate(X):\n",
    "                dists = np.linalg.norm(self.prototypes - x, axis=1)\n",
    "                j = np.argmin(dists)\n",
    "                if self.proto_labels[j] == y[i]:\n",
    "                    self.prototypes[j] += self.lr * (x - self.prototypes[j])\n",
    "                else:\n",
    "                    self.prototypes[j] -= self.lr * (x - self.prototypes[j])\n",
    "\n",
    "    def predict(self,X):\n",
    "        preds=[]\n",
    "        for x in X:\n",
    "            dists=np.linalg.norm(self.prototypes-x,axis=1)\n",
    "            j=np.argmin(dists)\n",
    "            preds.append(self.proto_labels[j])\n",
    "        return np.array(preds)\n",
    "\n",
    "lvq = LVQ(prototypes_per_class=2,epochs=20)\n",
    "lvq.fit(X_digits,y_digits)\n",
    "preds = lvq.predict(X_digits)\n",
    "print(\"Q5: LVQ training accuracy:\", accuracy_score(y_digits,preds))"
   ]
  }
 ],
 "metadata": {
  "kaggle": {
   "accelerator": "none",
   "dataSources": [],
   "dockerImageVersionId": 31089,
   "isGpuEnabled": false,
   "isInternetEnabled": true,
   "language": "python",
   "sourceType": "notebook"
  },
  "kernelspec": {
   "display_name": "Python 3",
   "language": "python",
   "name": "python3"
  },
  "language_info": {
   "codemirror_mode": {
    "name": "ipython",
    "version": 3
   },
   "file_extension": ".py",
   "mimetype": "text/x-python",
   "name": "python",
   "nbconvert_exporter": "python",
   "pygments_lexer": "ipython3",
   "version": "3.11.13"
  },
  "papermill": {
   "default_parameters": {},
   "duration": 45.741405,
   "end_time": "2025-10-02T05:51:01.315841",
   "environment_variables": {},
   "exception": null,
   "input_path": "__notebook__.ipynb",
   "output_path": "__notebook__.ipynb",
   "parameters": {},
   "start_time": "2025-10-02T05:50:15.574436",
   "version": "2.6.0"
  }
 },
 "nbformat": 4,
 "nbformat_minor": 5
}
