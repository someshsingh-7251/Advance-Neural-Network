{
 "cells": [
  {
   "cell_type": "markdown",
   "id": "6f862856",
   "metadata": {
    "papermill": {
     "duration": 0.003588,
     "end_time": "2025-09-24T17:24:18.341009",
     "exception": false,
     "start_time": "2025-09-24T17:24:18.337421",
     "status": "completed"
    },
    "tags": []
   },
   "source": [
    "# <center>**Lab Sheet-4**</center>\n",
    "# <center>**Linear Filters & LMS (Least Mean Squares)**</center>"
   ]
  },
  {
   "cell_type": "code",
   "execution_count": 1,
   "id": "616e2016",
   "metadata": {
    "execution": {
     "iopub.execute_input": "2025-09-24T17:24:18.348701Z",
     "iopub.status.busy": "2025-09-24T17:24:18.348278Z",
     "iopub.status.idle": "2025-09-24T17:24:18.359232Z",
     "shell.execute_reply": "2025-09-24T17:24:18.358124Z"
    },
    "papermill": {
     "duration": 0.016589,
     "end_time": "2025-09-24T17:24:18.360974",
     "exception": false,
     "start_time": "2025-09-24T17:24:18.344385",
     "status": "completed"
    },
    "tags": []
   },
   "outputs": [
    {
     "name": "stdout",
     "output_type": "stream",
     "text": [
      "Name: Somesh Singh\n",
      "Roll Number: 233025921\n"
     ]
    }
   ],
   "source": [
    "import numpy as np\n",
    "import matplotlib.pyplot as plt\n",
    "\n",
    "np.random.seed(42)\n",
    "\n",
    "# Print the name and roll number\n",
    "print(\"Name: Somesh Singh\")\n",
    "print(\"Roll Number: 233025921\")"
   ]
  },
  {
   "cell_type": "markdown",
   "id": "924cc04f",
   "metadata": {
    "papermill": {
     "duration": 0.002733,
     "end_time": "2025-09-24T17:24:18.366954",
     "exception": false,
     "start_time": "2025-09-24T17:24:18.364221",
     "status": "completed"
    },
    "tags": []
   },
   "source": [
    "**1. Create and train a linear regression model using Least Squares.**"
   ]
  },
  {
   "cell_type": "code",
   "execution_count": 2,
   "id": "daaa1e2d",
   "metadata": {
    "execution": {
     "iopub.execute_input": "2025-09-24T17:24:18.374747Z",
     "iopub.status.busy": "2025-09-24T17:24:18.374417Z",
     "iopub.status.idle": "2025-09-24T17:24:18.751351Z",
     "shell.execute_reply": "2025-09-24T17:24:18.750171Z"
    },
    "papermill": {
     "duration": 0.383378,
     "end_time": "2025-09-24T17:24:18.753222",
     "exception": false,
     "start_time": "2025-09-24T17:24:18.369844",
     "status": "completed"
    },
    "tags": []
   },
   "outputs": [
    {
     "name": "stdout",
     "output_type": "stream",
     "text": [
      "Weights (slope, intercept) = [1.8840332  1.12888618]\n",
      "Name: Somesh Singh\n",
      "Roll Number: 233025921\n"
     ]
    }
   ],
   "source": [
    "X = np.linspace(0, 10, 50)\n",
    "y = 2*X + 1 + np.random.normal(0, 2, size=X.shape)\n",
    "\n",
    "# Design matrix\n",
    "X_mat = np.vstack([X, np.ones_like(X)]).T\n",
    "# Least Squares solution: w = (X^T X)^-1 X^T y\n",
    "w = np.linalg.inv(X_mat.T @ X_mat) @ X_mat.T @ y\n",
    "\n",
    "print(\"Weights (slope, intercept) =\", w)\n",
    "\n",
    "# Print the name and roll number\n",
    "print(\"Name: Somesh Singh\")\n",
    "print(\"Roll Number: 233025921\")\n",
    "\n",
    "# Plot regression line\n",
    "plt.scatter(X, y, label=\"Data\")\n",
    "plt.plot(X, X_mat @ w, color=\"red\", label=\"Least Squares Fit\")\n",
    "plt.title(\"Linear Regression using Least Squares\")\n",
    "plt.legend()\n",
    "plt.savefig(\"lab4_least_squares.png\", dpi=150); plt.close()"
   ]
  },
  {
   "cell_type": "markdown",
   "id": "dc8f3c30",
   "metadata": {
    "papermill": {
     "duration": 0.002828,
     "end_time": "2025-09-24T17:24:18.759473",
     "exception": false,
     "start_time": "2025-09-24T17:24:18.756645",
     "status": "completed"
    },
    "tags": []
   },
   "source": [
    "**2. Implement the LMS algorithm step-by-step on a time-series dataset.** "
   ]
  },
  {
   "cell_type": "code",
   "execution_count": 3,
   "id": "45c86ffc",
   "metadata": {
    "execution": {
     "iopub.execute_input": "2025-09-24T17:24:18.767034Z",
     "iopub.status.busy": "2025-09-24T17:24:18.766642Z",
     "iopub.status.idle": "2025-09-24T17:24:18.989573Z",
     "shell.execute_reply": "2025-09-24T17:24:18.988402Z"
    },
    "papermill": {
     "duration": 0.228737,
     "end_time": "2025-09-24T17:24:18.991320",
     "exception": false,
     "start_time": "2025-09-24T17:24:18.762583",
     "status": "completed"
    },
    "tags": []
   },
   "outputs": [
    {
     "name": "stdout",
     "output_type": "stream",
     "text": [
      "Name: Somesh Singh\n",
      "Roll Number: 233025921\n",
      "Final LMS weight = 0.6602643401920488\n"
     ]
    }
   ],
   "source": [
    "# Generate AR(1) time-series: x_t = 0.8 * x_{t-1} + noise\n",
    "T = 200\n",
    "x = np.zeros(T)\n",
    "for t in range(1,T):\n",
    "    x[t] = 0.8*x[t-1] + np.random.normal(0,0.5)\n",
    "\n",
    "# LMS to predict x[t] from x[t-1]\n",
    "lr = 0.05\n",
    "epochs = 5\n",
    "w = 0.0\n",
    "errors = []\n",
    "\n",
    "for epoch in range(epochs):\n",
    "    for t in range(1,T):\n",
    "        y_pred = w * x[t-1]\n",
    "        e = x[t] - y_pred\n",
    "        w += lr * e * x[t-1]\n",
    "        errors.append(e**2)\n",
    "\n",
    "# Print the name and roll number\n",
    "print(\"Name: Somesh Singh\")\n",
    "print(\"Roll Number: 233025921\")\n",
    "\n",
    "print(\"Final LMS weight =\", w)\n",
    "\n",
    "plt.plot(errors)\n",
    "plt.title(\"LMS Error over Time\")\n",
    "plt.xlabel(\"Iteration\")\n",
    "plt.ylabel(\"Squared Error\")\n",
    "plt.savefig(\"lab4_lms_error.png\", dpi=150); plt.close()"
   ]
  },
  {
   "cell_type": "markdown",
   "id": "8a86a1cf",
   "metadata": {
    "papermill": {
     "duration": 0.002793,
     "end_time": "2025-09-24T17:24:18.997433",
     "exception": false,
     "start_time": "2025-09-24T17:24:18.994640",
     "status": "completed"
    },
    "tags": []
   },
   "source": [
    "**3. Plot error surface and gradient descent path during LMS learning.** "
   ]
  },
  {
   "cell_type": "code",
   "execution_count": 4,
   "id": "d21c660a",
   "metadata": {
    "execution": {
     "iopub.execute_input": "2025-09-24T17:24:19.004737Z",
     "iopub.status.busy": "2025-09-24T17:24:19.004406Z",
     "iopub.status.idle": "2025-09-24T17:24:19.397485Z",
     "shell.execute_reply": "2025-09-24T17:24:19.396208Z"
    },
    "papermill": {
     "duration": 0.412199,
     "end_time": "2025-09-24T17:24:19.412645",
     "exception": false,
     "start_time": "2025-09-24T17:24:19.000446",
     "status": "completed"
    },
    "tags": []
   },
   "outputs": [
    {
     "name": "stdout",
     "output_type": "stream",
     "text": [
      "Name: Somesh Singh\n",
      "Roll Number: 233025921\n"
     ]
    }
   ],
   "source": [
    "# Error surface: E(w) = mean((x_t - w*x_{t-1})^2)\n",
    "W = np.linspace(-1,2,100)\n",
    "E = [np.mean((x[1:] - w*x[:-1])**2) for w in W]\n",
    "\n",
    "plt.plot(W,E)\n",
    "plt.title(\"Error Surface for LMS\")\n",
    "plt.xlabel(\"Weight\")\n",
    "plt.ylabel(\"MSE\")\n",
    "plt.savefig(\"lab4_error_surface.png\", dpi=150); plt.close()\n",
    "\n",
    "# Print the name and roll number\n",
    "print(\"Name: Somesh Singh\")\n",
    "print(\"Roll Number: 233025921\")\n",
    "\n",
    "# Simulate gradient descent path\n",
    "w = -1.0\n",
    "path = []\n",
    "lr = 0.1\n",
    "for _ in range(20):\n",
    "    grad = -2*np.mean((x[1:] - w*x[:-1]) * x[:-1])\n",
    "    w -= lr*grad\n",
    "    path.append(w)\n",
    "\n",
    "plt.plot(W,E,label=\"Error Surface\")\n",
    "plt.scatter(path, [np.mean((x[1:] - pw*x[:-1])**2) for pw in path],\n",
    "            color=\"red\", label=\"GD Path\")\n",
    "plt.title(\"Gradient Descent Path on Error Surface\")\n",
    "plt.legend()\n",
    "plt.savefig(\"lab4_gd_path.png\", dpi=150); plt.close()"
   ]
  },
  {
   "cell_type": "markdown",
   "id": "8b2cf9a2",
   "metadata": {
    "papermill": {
     "duration": 0.003069,
     "end_time": "2025-09-24T17:24:19.419364",
     "exception": false,
     "start_time": "2025-09-24T17:24:19.416295",
     "status": "completed"
    },
    "tags": []
   },
   "source": [
    "**4. Compare standard gradient descent vs. learning rate annealing.** "
   ]
  },
  {
   "cell_type": "code",
   "execution_count": 5,
   "id": "51640068",
   "metadata": {
    "execution": {
     "iopub.execute_input": "2025-09-24T17:24:19.427488Z",
     "iopub.status.busy": "2025-09-24T17:24:19.427128Z",
     "iopub.status.idle": "2025-09-24T17:24:19.616010Z",
     "shell.execute_reply": "2025-09-24T17:24:19.614763Z"
    },
    "papermill": {
     "duration": 0.195219,
     "end_time": "2025-09-24T17:24:19.617742",
     "exception": false,
     "start_time": "2025-09-24T17:24:19.422523",
     "status": "completed"
    },
    "tags": []
   },
   "outputs": [
    {
     "name": "stdout",
     "output_type": "stream",
     "text": [
      "Name: Somesh Singh\n",
      "Roll Number: 233025921\n"
     ]
    }
   ],
   "source": [
    "def train_gd(lr_schedule):\n",
    "    w = 0.0\n",
    "    losses = []\n",
    "    for epoch in range(50):\n",
    "        lr = lr_schedule(epoch)\n",
    "        grad = -2*np.mean((x[1:] - w*x[:-1]) * x[:-1])\n",
    "        w -= lr*grad\n",
    "        losses.append(np.mean((x[1:] - w*x[:-1])**2))\n",
    "    return losses\n",
    "\n",
    "# Constant LR\n",
    "loss_const = train_gd(lambda e: 0.1)\n",
    "# Annealing LR\n",
    "loss_anneal = train_gd(lambda e: 0.1/(1+0.1*e))\n",
    "\n",
    "# Print the name and roll number\n",
    "print(\"Name: Somesh Singh\")\n",
    "print(\"Roll Number: 233025921\")\n",
    "\n",
    "plt.plot(loss_const,label=\"Constant LR\")\n",
    "plt.plot(loss_anneal,label=\"Annealing LR\")\n",
    "plt.title(\"GD vs LR Annealing\")\n",
    "plt.xlabel(\"Epoch\")\n",
    "plt.ylabel(\"MSE\")\n",
    "plt.legend()\n",
    "plt.savefig(\"lab4_lr_annealing.png\", dpi=150); plt.close()"
   ]
  },
  {
   "cell_type": "markdown",
   "id": "ffc47293",
   "metadata": {
    "papermill": {
     "duration": 0.003607,
     "end_time": "2025-09-24T17:24:19.624750",
     "exception": false,
     "start_time": "2025-09-24T17:24:19.621143",
     "status": "completed"
    },
    "tags": []
   },
   "source": [
    "**5. Analyze the effect of different learning rates on convergence.**"
   ]
  },
  {
   "cell_type": "code",
   "execution_count": 6,
   "id": "d3eb3b98",
   "metadata": {
    "execution": {
     "iopub.execute_input": "2025-09-24T17:24:19.632536Z",
     "iopub.status.busy": "2025-09-24T17:24:19.632187Z",
     "iopub.status.idle": "2025-09-24T17:24:19.852396Z",
     "shell.execute_reply": "2025-09-24T17:24:19.851226Z"
    },
    "papermill": {
     "duration": 0.226517,
     "end_time": "2025-09-24T17:24:19.854439",
     "exception": false,
     "start_time": "2025-09-24T17:24:19.627922",
     "status": "completed"
    },
    "tags": []
   },
   "outputs": [
    {
     "name": "stdout",
     "output_type": "stream",
     "text": [
      "Name: Somesh Singh\n",
      "Roll Number: 233025921\n"
     ]
    }
   ],
   "source": [
    "rates = [0.01, 0.1, 0.5]\n",
    "for r in rates:\n",
    "    losses = train_gd(lambda e,r=r: r)\n",
    "    plt.plot(losses,label=f\"LR={r}\")\n",
    "\n",
    "# Print the name and roll number\n",
    "print(\"Name: Somesh Singh\")\n",
    "print(\"Roll Number: 233025921\")\n",
    "\n",
    "plt.title(\"Effect of Learning Rate on Convergence\")\n",
    "plt.xlabel(\"Epoch\")\n",
    "plt.ylabel(\"MSE\")\n",
    "plt.legend()\n",
    "plt.savefig(\"lab4_learning_rates.png\", dpi=150); plt.close()"
   ]
  }
 ],
 "metadata": {
  "kaggle": {
   "accelerator": "none",
   "dataSources": [],
   "dockerImageVersionId": 31089,
   "isGpuEnabled": false,
   "isInternetEnabled": true,
   "language": "python",
   "sourceType": "notebook"
  },
  "kernelspec": {
   "display_name": "Python 3",
   "language": "python",
   "name": "python3"
  },
  "language_info": {
   "codemirror_mode": {
    "name": "ipython",
    "version": 3
   },
   "file_extension": ".py",
   "mimetype": "text/x-python",
   "name": "python",
   "nbconvert_exporter": "python",
   "pygments_lexer": "ipython3",
   "version": "3.11.13"
  },
  "papermill": {
   "default_parameters": {},
   "duration": 8.745517,
   "end_time": "2025-09-24T17:24:20.279445",
   "environment_variables": {},
   "exception": null,
   "input_path": "__notebook__.ipynb",
   "output_path": "__notebook__.ipynb",
   "parameters": {},
   "start_time": "2025-09-24T17:24:11.533928",
   "version": "2.6.0"
  }
 },
 "nbformat": 4,
 "nbformat_minor": 5
}
