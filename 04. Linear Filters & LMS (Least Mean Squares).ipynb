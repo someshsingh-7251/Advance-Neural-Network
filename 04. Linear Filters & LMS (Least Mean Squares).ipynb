{
 "cells": [
  {
   "cell_type": "markdown",
   "id": "b9d0ff06",
   "metadata": {
    "papermill": {
     "duration": 0.003485,
     "end_time": "2025-08-30T04:13:39.765217",
     "exception": false,
     "start_time": "2025-08-30T04:13:39.761732",
     "status": "completed"
    },
    "tags": []
   },
   "source": [
    "# <center>**Lab Sheet-4**</center>\n",
    "# <center>**Linear Filters & LMS (Least Mean Squares)**</center>"
   ]
  },
  {
   "cell_type": "code",
   "execution_count": 1,
   "id": "b69b51a9",
   "metadata": {
    "execution": {
     "iopub.execute_input": "2025-08-30T04:13:39.773727Z",
     "iopub.status.busy": "2025-08-30T04:13:39.772893Z",
     "iopub.status.idle": "2025-08-30T04:13:39.783647Z",
     "shell.execute_reply": "2025-08-30T04:13:39.782626Z"
    },
    "papermill": {
     "duration": 0.016557,
     "end_time": "2025-08-30T04:13:39.785569",
     "exception": false,
     "start_time": "2025-08-30T04:13:39.769012",
     "status": "completed"
    },
    "tags": []
   },
   "outputs": [],
   "source": [
    "import numpy as np\n",
    "import matplotlib.pyplot as plt\n",
    "\n",
    "np.random.seed(42)"
   ]
  },
  {
   "cell_type": "markdown",
   "id": "26ef0b77",
   "metadata": {
    "papermill": {
     "duration": 0.002484,
     "end_time": "2025-08-30T04:13:39.791094",
     "exception": false,
     "start_time": "2025-08-30T04:13:39.788610",
     "status": "completed"
    },
    "tags": []
   },
   "source": [
    "**1. Create and train a linear regression model using Least Squares.**"
   ]
  },
  {
   "cell_type": "code",
   "execution_count": 2,
   "id": "4bdf3482",
   "metadata": {
    "execution": {
     "iopub.execute_input": "2025-08-30T04:13:39.798110Z",
     "iopub.status.busy": "2025-08-30T04:13:39.797769Z",
     "iopub.status.idle": "2025-08-30T04:13:40.150340Z",
     "shell.execute_reply": "2025-08-30T04:13:40.149259Z"
    },
    "papermill": {
     "duration": 0.358567,
     "end_time": "2025-08-30T04:13:40.152393",
     "exception": false,
     "start_time": "2025-08-30T04:13:39.793826",
     "status": "completed"
    },
    "tags": []
   },
   "outputs": [
    {
     "name": "stdout",
     "output_type": "stream",
     "text": [
      "Weights (slope, intercept) = [1.8840332  1.12888618]\n"
     ]
    }
   ],
   "source": [
    "X = np.linspace(0, 10, 50)\n",
    "y = 2*X + 1 + np.random.normal(0, 2, size=X.shape)\n",
    "\n",
    "# Design matrix\n",
    "X_mat = np.vstack([X, np.ones_like(X)]).T\n",
    "# Least Squares solution: w = (X^T X)^-1 X^T y\n",
    "w = np.linalg.inv(X_mat.T @ X_mat) @ X_mat.T @ y\n",
    "\n",
    "print(\"Weights (slope, intercept) =\", w)\n",
    "\n",
    "# Plot regression line\n",
    "plt.scatter(X, y, label=\"Data\")\n",
    "plt.plot(X, X_mat @ w, color=\"red\", label=\"Least Squares Fit\")\n",
    "plt.title(\"Linear Regression using Least Squares\")\n",
    "plt.legend()\n",
    "plt.savefig(\"lab4_least_squares.png\", dpi=150); plt.close()"
   ]
  },
  {
   "cell_type": "markdown",
   "id": "1718dc8c",
   "metadata": {
    "papermill": {
     "duration": 0.002689,
     "end_time": "2025-08-30T04:13:40.158289",
     "exception": false,
     "start_time": "2025-08-30T04:13:40.155600",
     "status": "completed"
    },
    "tags": []
   },
   "source": [
    "**2. Implement the LMS algorithm step-by-step on a time-series dataset.** "
   ]
  },
  {
   "cell_type": "code",
   "execution_count": 3,
   "id": "ec45a91a",
   "metadata": {
    "execution": {
     "iopub.execute_input": "2025-08-30T04:13:40.166040Z",
     "iopub.status.busy": "2025-08-30T04:13:40.165016Z",
     "iopub.status.idle": "2025-08-30T04:13:40.360316Z",
     "shell.execute_reply": "2025-08-30T04:13:40.359208Z"
    },
    "papermill": {
     "duration": 0.200797,
     "end_time": "2025-08-30T04:13:40.362062",
     "exception": false,
     "start_time": "2025-08-30T04:13:40.161265",
     "status": "completed"
    },
    "tags": []
   },
   "outputs": [
    {
     "name": "stdout",
     "output_type": "stream",
     "text": [
      "Final LMS weight = 0.6602643401920488\n"
     ]
    }
   ],
   "source": [
    "# Generate AR(1) time-series: x_t = 0.8 * x_{t-1} + noise\n",
    "T = 200\n",
    "x = np.zeros(T)\n",
    "for t in range(1,T):\n",
    "    x[t] = 0.8*x[t-1] + np.random.normal(0,0.5)\n",
    "\n",
    "# LMS to predict x[t] from x[t-1]\n",
    "lr = 0.05\n",
    "epochs = 5\n",
    "w = 0.0\n",
    "errors = []\n",
    "\n",
    "for epoch in range(epochs):\n",
    "    for t in range(1,T):\n",
    "        y_pred = w * x[t-1]\n",
    "        e = x[t] - y_pred\n",
    "        w += lr * e * x[t-1]\n",
    "        errors.append(e**2)\n",
    "\n",
    "print(\"Final LMS weight =\", w)\n",
    "\n",
    "plt.plot(errors)\n",
    "plt.title(\"LMS Error over Time\")\n",
    "plt.xlabel(\"Iteration\")\n",
    "plt.ylabel(\"Squared Error\")\n",
    "plt.savefig(\"lab4_lms_error.png\", dpi=150); plt.close()"
   ]
  },
  {
   "cell_type": "markdown",
   "id": "00cbc93b",
   "metadata": {
    "papermill": {
     "duration": 0.002728,
     "end_time": "2025-08-30T04:13:40.367829",
     "exception": false,
     "start_time": "2025-08-30T04:13:40.365101",
     "status": "completed"
    },
    "tags": []
   },
   "source": [
    "**3. Plot error surface and gradient descent path during LMS learning.** "
   ]
  },
  {
   "cell_type": "code",
   "execution_count": 4,
   "id": "5694de61",
   "metadata": {
    "execution": {
     "iopub.execute_input": "2025-08-30T04:13:40.374849Z",
     "iopub.status.busy": "2025-08-30T04:13:40.374436Z",
     "iopub.status.idle": "2025-08-30T04:13:40.749408Z",
     "shell.execute_reply": "2025-08-30T04:13:40.748558Z"
    },
    "papermill": {
     "duration": 0.38057,
     "end_time": "2025-08-30T04:13:40.751201",
     "exception": false,
     "start_time": "2025-08-30T04:13:40.370631",
     "status": "completed"
    },
    "tags": []
   },
   "outputs": [],
   "source": [
    "# Error surface: E(w) = mean((x_t - w*x_{t-1})^2)\n",
    "W = np.linspace(-1,2,100)\n",
    "E = [np.mean((x[1:] - w*x[:-1])**2) for w in W]\n",
    "\n",
    "plt.plot(W,E)\n",
    "plt.title(\"Error Surface for LMS\")\n",
    "plt.xlabel(\"Weight\")\n",
    "plt.ylabel(\"MSE\")\n",
    "plt.savefig(\"lab4_error_surface.png\", dpi=150); plt.close()\n",
    "\n",
    "# Simulate gradient descent path\n",
    "w = -1.0\n",
    "path = []\n",
    "lr = 0.1\n",
    "for _ in range(20):\n",
    "    grad = -2*np.mean((x[1:] - w*x[:-1]) * x[:-1])\n",
    "    w -= lr*grad\n",
    "    path.append(w)\n",
    "\n",
    "plt.plot(W,E,label=\"Error Surface\")\n",
    "plt.scatter(path, [np.mean((x[1:] - pw*x[:-1])**2) for pw in path],\n",
    "            color=\"red\", label=\"GD Path\")\n",
    "plt.title(\"Gradient Descent Path on Error Surface\")\n",
    "plt.legend()\n",
    "plt.savefig(\"lab4_gd_path.png\", dpi=150); plt.close()"
   ]
  },
  {
   "cell_type": "markdown",
   "id": "cf036bbf",
   "metadata": {
    "papermill": {
     "duration": 0.002668,
     "end_time": "2025-08-30T04:13:40.757053",
     "exception": false,
     "start_time": "2025-08-30T04:13:40.754385",
     "status": "completed"
    },
    "tags": []
   },
   "source": [
    "**4. Compare standard gradient descent vs. learning rate annealing.** "
   ]
  },
  {
   "cell_type": "code",
   "execution_count": 5,
   "id": "aefbc213",
   "metadata": {
    "execution": {
     "iopub.execute_input": "2025-08-30T04:13:40.764238Z",
     "iopub.status.busy": "2025-08-30T04:13:40.763876Z",
     "iopub.status.idle": "2025-08-30T04:13:40.949903Z",
     "shell.execute_reply": "2025-08-30T04:13:40.948661Z"
    },
    "papermill": {
     "duration": 0.191776,
     "end_time": "2025-08-30T04:13:40.951714",
     "exception": false,
     "start_time": "2025-08-30T04:13:40.759938",
     "status": "completed"
    },
    "tags": []
   },
   "outputs": [],
   "source": [
    "def train_gd(lr_schedule):\n",
    "    w = 0.0\n",
    "    losses = []\n",
    "    for epoch in range(50):\n",
    "        lr = lr_schedule(epoch)\n",
    "        grad = -2*np.mean((x[1:] - w*x[:-1]) * x[:-1])\n",
    "        w -= lr*grad\n",
    "        losses.append(np.mean((x[1:] - w*x[:-1])**2))\n",
    "    return losses\n",
    "\n",
    "# Constant LR\n",
    "loss_const = train_gd(lambda e: 0.1)\n",
    "# Annealing LR\n",
    "loss_anneal = train_gd(lambda e: 0.1/(1+0.1*e))\n",
    "\n",
    "plt.plot(loss_const,label=\"Constant LR\")\n",
    "plt.plot(loss_anneal,label=\"Annealing LR\")\n",
    "plt.title(\"GD vs LR Annealing\")\n",
    "plt.xlabel(\"Epoch\")\n",
    "plt.ylabel(\"MSE\")\n",
    "plt.legend()\n",
    "plt.savefig(\"lab4_lr_annealing.png\", dpi=150); plt.close()"
   ]
  },
  {
   "cell_type": "markdown",
   "id": "e2df6aea",
   "metadata": {
    "papermill": {
     "duration": 0.002741,
     "end_time": "2025-08-30T04:13:40.957605",
     "exception": false,
     "start_time": "2025-08-30T04:13:40.954864",
     "status": "completed"
    },
    "tags": []
   },
   "source": [
    "**5. Analyze the effect of different learning rates on convergence.**"
   ]
  },
  {
   "cell_type": "code",
   "execution_count": 6,
   "id": "1ff15109",
   "metadata": {
    "execution": {
     "iopub.execute_input": "2025-08-30T04:13:40.964596Z",
     "iopub.status.busy": "2025-08-30T04:13:40.964294Z",
     "iopub.status.idle": "2025-08-30T04:13:41.155522Z",
     "shell.execute_reply": "2025-08-30T04:13:41.154460Z"
    },
    "papermill": {
     "duration": 0.196859,
     "end_time": "2025-08-30T04:13:41.157374",
     "exception": false,
     "start_time": "2025-08-30T04:13:40.960515",
     "status": "completed"
    },
    "tags": []
   },
   "outputs": [],
   "source": [
    "rates = [0.01, 0.1, 0.5]\n",
    "for r in rates:\n",
    "    losses = train_gd(lambda e,r=r: r)\n",
    "    plt.plot(losses,label=f\"LR={r}\")\n",
    "\n",
    "plt.title(\"Effect of Learning Rate on Convergence\")\n",
    "plt.xlabel(\"Epoch\")\n",
    "plt.ylabel(\"MSE\")\n",
    "plt.legend()\n",
    "plt.savefig(\"lab4_learning_rates.png\", dpi=150); plt.close()"
   ]
  }
 ],
 "metadata": {
  "kaggle": {
   "accelerator": "none",
   "dataSources": [],
   "dockerImageVersionId": 31089,
   "isGpuEnabled": false,
   "isInternetEnabled": true,
   "language": "python",
   "sourceType": "notebook"
  },
  "kernelspec": {
   "display_name": "Python 3",
   "language": "python",
   "name": "python3"
  },
  "language_info": {
   "codemirror_mode": {
    "name": "ipython",
    "version": 3
   },
   "file_extension": ".py",
   "mimetype": "text/x-python",
   "name": "python",
   "nbconvert_exporter": "python",
   "pygments_lexer": "ipython3",
   "version": "3.11.13"
  },
  "papermill": {
   "default_parameters": {},
   "duration": 8.269904,
   "end_time": "2025-08-30T04:13:41.596522",
   "environment_variables": {},
   "exception": null,
   "input_path": "__notebook__.ipynb",
   "output_path": "__notebook__.ipynb",
   "parameters": {},
   "start_time": "2025-08-30T04:13:33.326618",
   "version": "2.6.0"
  }
 },
 "nbformat": 4,
 "nbformat_minor": 5
}
