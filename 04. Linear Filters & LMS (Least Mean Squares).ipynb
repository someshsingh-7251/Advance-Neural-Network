{
 "cells": [
  {
   "cell_type": "markdown",
   "id": "81aa0e00",
   "metadata": {
    "papermill": {
     "duration": 0.003336,
     "end_time": "2025-09-06T05:42:26.406620",
     "exception": false,
     "start_time": "2025-09-06T05:42:26.403284",
     "status": "completed"
    },
    "tags": []
   },
   "source": [
    "# <center>**Lab Sheet-4**</center>\n",
    "# <center>**Linear Filters & LMS (Least Mean Squares)**</center>"
   ]
  },
  {
   "cell_type": "code",
   "execution_count": 1,
   "id": "9ccd1ba8",
   "metadata": {
    "execution": {
     "iopub.execute_input": "2025-09-06T05:42:26.414166Z",
     "iopub.status.busy": "2025-09-06T05:42:26.413744Z",
     "iopub.status.idle": "2025-09-06T05:42:26.424839Z",
     "shell.execute_reply": "2025-09-06T05:42:26.423709Z"
    },
    "papermill": {
     "duration": 0.016941,
     "end_time": "2025-09-06T05:42:26.426895",
     "exception": false,
     "start_time": "2025-09-06T05:42:26.409954",
     "status": "completed"
    },
    "tags": []
   },
   "outputs": [],
   "source": [
    "import numpy as np\n",
    "import matplotlib.pyplot as plt\n",
    "\n",
    "np.random.seed(42)"
   ]
  },
  {
   "cell_type": "markdown",
   "id": "4e37dc2c",
   "metadata": {
    "papermill": {
     "duration": 0.002629,
     "end_time": "2025-09-06T05:42:26.432814",
     "exception": false,
     "start_time": "2025-09-06T05:42:26.430185",
     "status": "completed"
    },
    "tags": []
   },
   "source": [
    "**1. Create and train a linear regression model using Least Squares.**"
   ]
  },
  {
   "cell_type": "code",
   "execution_count": 2,
   "id": "24b52268",
   "metadata": {
    "execution": {
     "iopub.execute_input": "2025-09-06T05:42:26.440125Z",
     "iopub.status.busy": "2025-09-06T05:42:26.439700Z",
     "iopub.status.idle": "2025-09-06T05:42:26.783546Z",
     "shell.execute_reply": "2025-09-06T05:42:26.782372Z"
    },
    "papermill": {
     "duration": 0.34974,
     "end_time": "2025-09-06T05:42:26.785442",
     "exception": false,
     "start_time": "2025-09-06T05:42:26.435702",
     "status": "completed"
    },
    "tags": []
   },
   "outputs": [
    {
     "name": "stdout",
     "output_type": "stream",
     "text": [
      "Weights (slope, intercept) = [1.8840332  1.12888618]\n"
     ]
    }
   ],
   "source": [
    "X = np.linspace(0, 10, 50)\n",
    "y = 2*X + 1 + np.random.normal(0, 2, size=X.shape)\n",
    "\n",
    "# Design matrix\n",
    "X_mat = np.vstack([X, np.ones_like(X)]).T\n",
    "# Least Squares solution: w = (X^T X)^-1 X^T y\n",
    "w = np.linalg.inv(X_mat.T @ X_mat) @ X_mat.T @ y\n",
    "\n",
    "print(\"Weights (slope, intercept) =\", w)\n",
    "\n",
    "# Plot regression line\n",
    "plt.scatter(X, y, label=\"Data\")\n",
    "plt.plot(X, X_mat @ w, color=\"red\", label=\"Least Squares Fit\")\n",
    "plt.title(\"Linear Regression using Least Squares\")\n",
    "plt.legend()\n",
    "plt.savefig(\"lab4_least_squares.png\", dpi=150); plt.close()"
   ]
  },
  {
   "cell_type": "markdown",
   "id": "23c2cb8c",
   "metadata": {
    "papermill": {
     "duration": 0.0027,
     "end_time": "2025-09-06T05:42:26.791285",
     "exception": false,
     "start_time": "2025-09-06T05:42:26.788585",
     "status": "completed"
    },
    "tags": []
   },
   "source": [
    "**2. Implement the LMS algorithm step-by-step on a time-series dataset.** "
   ]
  },
  {
   "cell_type": "code",
   "execution_count": 3,
   "id": "f337ffd9",
   "metadata": {
    "execution": {
     "iopub.execute_input": "2025-09-06T05:42:26.799590Z",
     "iopub.status.busy": "2025-09-06T05:42:26.799261Z",
     "iopub.status.idle": "2025-09-06T05:42:27.006119Z",
     "shell.execute_reply": "2025-09-06T05:42:27.004856Z"
    },
    "papermill": {
     "duration": 0.213039,
     "end_time": "2025-09-06T05:42:27.007862",
     "exception": false,
     "start_time": "2025-09-06T05:42:26.794823",
     "status": "completed"
    },
    "tags": []
   },
   "outputs": [
    {
     "name": "stdout",
     "output_type": "stream",
     "text": [
      "Final LMS weight = 0.6602643401920488\n"
     ]
    }
   ],
   "source": [
    "# Generate AR(1) time-series: x_t = 0.8 * x_{t-1} + noise\n",
    "T = 200\n",
    "x = np.zeros(T)\n",
    "for t in range(1,T):\n",
    "    x[t] = 0.8*x[t-1] + np.random.normal(0,0.5)\n",
    "\n",
    "# LMS to predict x[t] from x[t-1]\n",
    "lr = 0.05\n",
    "epochs = 5\n",
    "w = 0.0\n",
    "errors = []\n",
    "\n",
    "for epoch in range(epochs):\n",
    "    for t in range(1,T):\n",
    "        y_pred = w * x[t-1]\n",
    "        e = x[t] - y_pred\n",
    "        w += lr * e * x[t-1]\n",
    "        errors.append(e**2)\n",
    "\n",
    "print(\"Final LMS weight =\", w)\n",
    "\n",
    "plt.plot(errors)\n",
    "plt.title(\"LMS Error over Time\")\n",
    "plt.xlabel(\"Iteration\")\n",
    "plt.ylabel(\"Squared Error\")\n",
    "plt.savefig(\"lab4_lms_error.png\", dpi=150); plt.close()"
   ]
  },
  {
   "cell_type": "markdown",
   "id": "2c297093",
   "metadata": {
    "papermill": {
     "duration": 0.003241,
     "end_time": "2025-09-06T05:42:27.014347",
     "exception": false,
     "start_time": "2025-09-06T05:42:27.011106",
     "status": "completed"
    },
    "tags": []
   },
   "source": [
    "**3. Plot error surface and gradient descent path during LMS learning.** "
   ]
  },
  {
   "cell_type": "code",
   "execution_count": 4,
   "id": "43d3ac50",
   "metadata": {
    "execution": {
     "iopub.execute_input": "2025-09-06T05:42:27.021732Z",
     "iopub.status.busy": "2025-09-06T05:42:27.021385Z",
     "iopub.status.idle": "2025-09-06T05:42:27.398585Z",
     "shell.execute_reply": "2025-09-06T05:42:27.397443Z"
    },
    "papermill": {
     "duration": 0.382867,
     "end_time": "2025-09-06T05:42:27.400296",
     "exception": false,
     "start_time": "2025-09-06T05:42:27.017429",
     "status": "completed"
    },
    "tags": []
   },
   "outputs": [],
   "source": [
    "# Error surface: E(w) = mean((x_t - w*x_{t-1})^2)\n",
    "W = np.linspace(-1,2,100)\n",
    "E = [np.mean((x[1:] - w*x[:-1])**2) for w in W]\n",
    "\n",
    "plt.plot(W,E)\n",
    "plt.title(\"Error Surface for LMS\")\n",
    "plt.xlabel(\"Weight\")\n",
    "plt.ylabel(\"MSE\")\n",
    "plt.savefig(\"lab4_error_surface.png\", dpi=150); plt.close()\n",
    "\n",
    "# Simulate gradient descent path\n",
    "w = -1.0\n",
    "path = []\n",
    "lr = 0.1\n",
    "for _ in range(20):\n",
    "    grad = -2*np.mean((x[1:] - w*x[:-1]) * x[:-1])\n",
    "    w -= lr*grad\n",
    "    path.append(w)\n",
    "\n",
    "plt.plot(W,E,label=\"Error Surface\")\n",
    "plt.scatter(path, [np.mean((x[1:] - pw*x[:-1])**2) for pw in path],\n",
    "            color=\"red\", label=\"GD Path\")\n",
    "plt.title(\"Gradient Descent Path on Error Surface\")\n",
    "plt.legend()\n",
    "plt.savefig(\"lab4_gd_path.png\", dpi=150); plt.close()"
   ]
  },
  {
   "cell_type": "markdown",
   "id": "e7addbe6",
   "metadata": {
    "papermill": {
     "duration": 0.002711,
     "end_time": "2025-09-06T05:42:27.406258",
     "exception": false,
     "start_time": "2025-09-06T05:42:27.403547",
     "status": "completed"
    },
    "tags": []
   },
   "source": [
    "**4. Compare standard gradient descent vs. learning rate annealing.** "
   ]
  },
  {
   "cell_type": "code",
   "execution_count": 5,
   "id": "22289090",
   "metadata": {
    "execution": {
     "iopub.execute_input": "2025-09-06T05:42:27.413760Z",
     "iopub.status.busy": "2025-09-06T05:42:27.413394Z",
     "iopub.status.idle": "2025-09-06T05:42:27.594940Z",
     "shell.execute_reply": "2025-09-06T05:42:27.593867Z"
    },
    "papermill": {
     "duration": 0.187582,
     "end_time": "2025-09-06T05:42:27.596702",
     "exception": false,
     "start_time": "2025-09-06T05:42:27.409120",
     "status": "completed"
    },
    "tags": []
   },
   "outputs": [],
   "source": [
    "def train_gd(lr_schedule):\n",
    "    w = 0.0\n",
    "    losses = []\n",
    "    for epoch in range(50):\n",
    "        lr = lr_schedule(epoch)\n",
    "        grad = -2*np.mean((x[1:] - w*x[:-1]) * x[:-1])\n",
    "        w -= lr*grad\n",
    "        losses.append(np.mean((x[1:] - w*x[:-1])**2))\n",
    "    return losses\n",
    "\n",
    "# Constant LR\n",
    "loss_const = train_gd(lambda e: 0.1)\n",
    "# Annealing LR\n",
    "loss_anneal = train_gd(lambda e: 0.1/(1+0.1*e))\n",
    "\n",
    "plt.plot(loss_const,label=\"Constant LR\")\n",
    "plt.plot(loss_anneal,label=\"Annealing LR\")\n",
    "plt.title(\"GD vs LR Annealing\")\n",
    "plt.xlabel(\"Epoch\")\n",
    "plt.ylabel(\"MSE\")\n",
    "plt.legend()\n",
    "plt.savefig(\"lab4_lr_annealing.png\", dpi=150); plt.close()"
   ]
  },
  {
   "cell_type": "markdown",
   "id": "c78986b8",
   "metadata": {
    "papermill": {
     "duration": 0.002643,
     "end_time": "2025-09-06T05:42:27.602372",
     "exception": false,
     "start_time": "2025-09-06T05:42:27.599729",
     "status": "completed"
    },
    "tags": []
   },
   "source": [
    "**5. Analyze the effect of different learning rates on convergence.**"
   ]
  },
  {
   "cell_type": "code",
   "execution_count": 6,
   "id": "251c55e7",
   "metadata": {
    "execution": {
     "iopub.execute_input": "2025-09-06T05:42:27.609251Z",
     "iopub.status.busy": "2025-09-06T05:42:27.608937Z",
     "iopub.status.idle": "2025-09-06T05:42:27.808091Z",
     "shell.execute_reply": "2025-09-06T05:42:27.806881Z"
    },
    "papermill": {
     "duration": 0.204721,
     "end_time": "2025-09-06T05:42:27.809926",
     "exception": false,
     "start_time": "2025-09-06T05:42:27.605205",
     "status": "completed"
    },
    "tags": []
   },
   "outputs": [],
   "source": [
    "rates = [0.01, 0.1, 0.5]\n",
    "for r in rates:\n",
    "    losses = train_gd(lambda e,r=r: r)\n",
    "    plt.plot(losses,label=f\"LR={r}\")\n",
    "\n",
    "plt.title(\"Effect of Learning Rate on Convergence\")\n",
    "plt.xlabel(\"Epoch\")\n",
    "plt.ylabel(\"MSE\")\n",
    "plt.legend()\n",
    "plt.savefig(\"lab4_learning_rates.png\", dpi=150); plt.close()"
   ]
  }
 ],
 "metadata": {
  "kaggle": {
   "accelerator": "none",
   "dataSources": [],
   "dockerImageVersionId": 31089,
   "isGpuEnabled": false,
   "isInternetEnabled": true,
   "language": "python",
   "sourceType": "notebook"
  },
  "kernelspec": {
   "display_name": "Python 3",
   "language": "python",
   "name": "python3"
  },
  "language_info": {
   "codemirror_mode": {
    "name": "ipython",
    "version": 3
   },
   "file_extension": ".py",
   "mimetype": "text/x-python",
   "name": "python",
   "nbconvert_exporter": "python",
   "pygments_lexer": "ipython3",
   "version": "3.11.13"
  },
  "papermill": {
   "default_parameters": {},
   "duration": 8.433182,
   "end_time": "2025-09-06T05:42:28.233312",
   "environment_variables": {},
   "exception": null,
   "input_path": "__notebook__.ipynb",
   "output_path": "__notebook__.ipynb",
   "parameters": {},
   "start_time": "2025-09-06T05:42:19.800130",
   "version": "2.6.0"
  }
 },
 "nbformat": 4,
 "nbformat_minor": 5
}
