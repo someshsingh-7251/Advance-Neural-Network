{
 "cells": [
  {
   "cell_type": "markdown",
   "id": "0605d53e",
   "metadata": {
    "papermill": {
     "duration": 0.004261,
     "end_time": "2025-10-02T06:06:59.324043",
     "exception": false,
     "start_time": "2025-10-02T06:06:59.319782",
     "status": "completed"
    },
    "tags": []
   },
   "source": [
    "# <center>Lab Sheet 9</center>"
   ]
  },
  {
   "cell_type": "markdown",
   "id": "aeecd054",
   "metadata": {
    "papermill": {
     "duration": 0.003348,
     "end_time": "2025-10-02T06:06:59.331262",
     "exception": false,
     "start_time": "2025-10-02T06:06:59.327914",
     "status": "completed"
    },
    "tags": []
   },
   "source": [
    "# <center>Neurodynamics and Hopfield Networks</center>"
   ]
  },
  {
   "cell_type": "code",
   "execution_count": 1,
   "id": "cc0294de",
   "metadata": {
    "execution": {
     "iopub.execute_input": "2025-10-02T06:06:59.340009Z",
     "iopub.status.busy": "2025-10-02T06:06:59.339683Z",
     "iopub.status.idle": "2025-10-02T06:06:59.352172Z",
     "shell.execute_reply": "2025-10-02T06:06:59.351031Z"
    },
    "papermill": {
     "duration": 0.019099,
     "end_time": "2025-10-02T06:06:59.353987",
     "exception": false,
     "start_time": "2025-10-02T06:06:59.334888",
     "status": "completed"
    },
    "tags": []
   },
   "outputs": [
    {
     "name": "stdout",
     "output_type": "stream",
     "text": [
      "Name: Somesh Singh\n",
      "Roll Number: 233025921\n"
     ]
    }
   ],
   "source": [
    "import numpy as np\n",
    "import matplotlib.pyplot as plt\n",
    "import os\n",
    "np.random.seed(42)\n",
    "os.makedirs(\"lab9_plots\", exist_ok=True)\n",
    "\n",
    "# Print the name and roll number\n",
    "print(\"Name: Somesh Singh\")\n",
    "print(\"Roll Number: 233025921\")"
   ]
  },
  {
   "cell_type": "markdown",
   "id": "46226c53",
   "metadata": {
    "papermill": {
     "duration": 0.003465,
     "end_time": "2025-10-02T06:06:59.361405",
     "exception": false,
     "start_time": "2025-10-02T06:06:59.357940",
     "status": "completed"
    },
    "tags": []
   },
   "source": [
    "# -------------------------\n",
    "# Utilities\n",
    "# -------------------------"
   ]
  },
  {
   "cell_type": "code",
   "execution_count": 2,
   "id": "040d4da8",
   "metadata": {
    "execution": {
     "iopub.execute_input": "2025-10-02T06:06:59.370228Z",
     "iopub.status.busy": "2025-10-02T06:06:59.369888Z",
     "iopub.status.idle": "2025-10-02T06:06:59.377624Z",
     "shell.execute_reply": "2025-10-02T06:06:59.376563Z"
    },
    "papermill": {
     "duration": 0.013979,
     "end_time": "2025-10-02T06:06:59.379094",
     "exception": false,
     "start_time": "2025-10-02T06:06:59.365115",
     "status": "completed"
    },
    "tags": []
   },
   "outputs": [
    {
     "name": "stdout",
     "output_type": "stream",
     "text": [
      "Name: Somesh Singh\n",
      "Roll Number: 233025921\n"
     ]
    }
   ],
   "source": [
    "def bipolar(x):\n",
    "    \"\"\"Convert {0,1} to bipolar {-1,+1}\"\"\"\n",
    "    x = np.array(x)\n",
    "    return np.where(x==0, -1, 1)\n",
    "\n",
    "def binarize_from_bipolar(x):\n",
    "    \"\"\"Convert bipolar (-1, +1) -> (0,1)\"\"\"\n",
    "    return ((np.array(x) + 1) // 2).astype(int)\n",
    "\n",
    "# Print the name and roll number\n",
    "print(\"Name: Somesh Singh\")\n",
    "print(\"Roll Number: 233025921\")\n",
    "\n",
    "def plot_pattern(vec, shape, title, path):\n",
    "    plt.figure(figsize=(2.5,2.5))\n",
    "    plt.imshow(vec.reshape(shape), cmap='gray', vmin=-1, vmax=1)\n",
    "    plt.title(title)\n",
    "    plt.axis('off')\n",
    "    plt.savefig(path, dpi=150, bbox_inches='tight')\n",
    "    plt.close()"
   ]
  },
  {
   "cell_type": "markdown",
   "id": "4b36db21",
   "metadata": {
    "papermill": {
     "duration": 0.003535,
     "end_time": "2025-10-02T06:06:59.386416",
     "exception": false,
     "start_time": "2025-10-02T06:06:59.382881",
     "status": "completed"
    },
    "tags": []
   },
   "source": [
    "# -------------------------\n",
    "# Hopfield: Hebbian training (zero diagonal)\n",
    "# -------------------------"
   ]
  },
  {
   "cell_type": "code",
   "execution_count": 3,
   "id": "ca4dc515",
   "metadata": {
    "execution": {
     "iopub.execute_input": "2025-10-02T06:06:59.395309Z",
     "iopub.status.busy": "2025-10-02T06:06:59.395001Z",
     "iopub.status.idle": "2025-10-02T06:06:59.405554Z",
     "shell.execute_reply": "2025-10-02T06:06:59.404156Z"
    },
    "papermill": {
     "duration": 0.017337,
     "end_time": "2025-10-02T06:06:59.407470",
     "exception": false,
     "start_time": "2025-10-02T06:06:59.390133",
     "status": "completed"
    },
    "tags": []
   },
   "outputs": [
    {
     "name": "stdout",
     "output_type": "stream",
     "text": [
      "Name: Somesh Singh\n",
      "Roll Number: 233025921\n"
     ]
    }
   ],
   "source": [
    "class Hopfield:\n",
    "    def __init__(self, n):\n",
    "        self.n = n\n",
    "        self.W = np.zeros((n, n), dtype=float)\n",
    "\n",
    "    def store_patterns(self, patterns):\n",
    "        \"\"\"patterns: array of shape (P, n) in bipolar (-1,+1)\"\"\"\n",
    "        P = len(patterns)\n",
    "        self.W[:] = 0.0\n",
    "        for p in patterns:\n",
    "            self.W += np.outer(p, p)\n",
    "        # zero diagonal\n",
    "        np.fill_diagonal(self.W, 0.0)\n",
    "        # normalize by N optionally (classic Hopfield uses 1/N)\n",
    "        self.W /= self.n\n",
    "\n",
    "    def energy(self, state):\n",
    "        \"\"\"Energy E = -1/2 s^T W s\"\"\"\n",
    "        s = state.reshape(self.n)\n",
    "        return -0.5 * s @ (self.W @ s)\n",
    "\n",
    "    def sign_update(self, h):\n",
    "        # sign function with zero -> +1\n",
    "        return np.where(h >= 0, 1, -1)\n",
    "\n",
    "    def synchronous_update(self, state):\n",
    "        h = self.W @ state\n",
    "        return self.sign_update(h)\n",
    "\n",
    "    def asynchronous_update(self, state, steps=1, random_order=True):\n",
    "        s = state.copy()\n",
    "        history = [s.copy()]\n",
    "        for t in range(steps):\n",
    "            indices = np.arange(self.n)\n",
    "            if random_order:\n",
    "                np.random.shuffle(indices)\n",
    "            for i in indices:\n",
    "                h_i = self.W[i, :] @ s\n",
    "                s[i] = 1 if h_i >= 0 else -1\n",
    "            history.append(s.copy())\n",
    "        return s, history\n",
    "\n",
    "# Print the name and roll number\n",
    "print(\"Name: Somesh Singh\")\n",
    "print(\"Roll Number: 233025921\")"
   ]
  },
  {
   "cell_type": "markdown",
   "id": "3b1f1384",
   "metadata": {
    "papermill": {
     "duration": 0.003549,
     "end_time": "2025-10-02T06:06:59.414933",
     "exception": false,
     "start_time": "2025-10-02T06:06:59.411384",
     "status": "completed"
    },
    "tags": []
   },
   "source": [
    "# -------------------------\n",
    "# Create patterns (simple 8x8 binary images)\n",
    "# -------------------------"
   ]
  },
  {
   "cell_type": "code",
   "execution_count": 4,
   "id": "d5103503",
   "metadata": {
    "execution": {
     "iopub.execute_input": "2025-10-02T06:06:59.424675Z",
     "iopub.status.busy": "2025-10-02T06:06:59.424272Z",
     "iopub.status.idle": "2025-10-02T06:06:59.431864Z",
     "shell.execute_reply": "2025-10-02T06:06:59.430786Z"
    },
    "papermill": {
     "duration": 0.014791,
     "end_time": "2025-10-02T06:06:59.433547",
     "exception": false,
     "start_time": "2025-10-02T06:06:59.418756",
     "status": "completed"
    },
    "tags": []
   },
   "outputs": [],
   "source": [
    "def create_base_patterns(shape=(8,8)):\n",
    "    h, w = shape\n",
    "    N = h*w\n",
    "    patterns = []\n",
    "    # Pattern A: diagonal line\n",
    "    A = np.zeros((h,w), dtype=int); np.fill_diagonal(A, 1)\n",
    "    patterns.append(bipolar(A.flatten()))\n",
    "    # Print the name and roll number\n",
    "    print(\"Name: Somesh Singh\")\n",
    "    print(\"Roll Number: 233025921\")\n",
    "    # Pattern B: cross\n",
    "    B = np.zeros((h,w), dtype=int)\n",
    "    B[h//2,:] = 1\n",
    "    B[:,w//2] = 1\n",
    "    patterns.append(bipolar(B.flatten()))\n",
    "    # Pattern C: checkerboard\n",
    "    C = np.indices((h,w)).sum(axis=0) % 2\n",
    "    patterns.append(bipolar(C.flatten()))\n",
    "    return np.array(patterns), (h,w)"
   ]
  },
  {
   "cell_type": "markdown",
   "id": "b3a85f31",
   "metadata": {
    "papermill": {
     "duration": 0.003474,
     "end_time": "2025-10-02T06:06:59.440929",
     "exception": false,
     "start_time": "2025-10-02T06:06:59.437455",
     "status": "completed"
    },
    "tags": []
   },
   "source": [
    "**Q1. Implement a Hopfield network to store and recall binary patterns.**\n",
    "\n",
    "**Q2. Simulate pattern distortion and recovery using asynchronous updates.**"
   ]
  },
  {
   "cell_type": "code",
   "execution_count": 5,
   "id": "3f7fea64",
   "metadata": {
    "execution": {
     "iopub.execute_input": "2025-10-02T06:06:59.450650Z",
     "iopub.status.busy": "2025-10-02T06:06:59.450181Z",
     "iopub.status.idle": "2025-10-02T06:07:01.004247Z",
     "shell.execute_reply": "2025-10-02T06:07:01.003032Z"
    },
    "papermill": {
     "duration": 1.561183,
     "end_time": "2025-10-02T06:07:01.005914",
     "exception": false,
     "start_time": "2025-10-02T06:06:59.444731",
     "status": "completed"
    },
    "tags": []
   },
   "outputs": [
    {
     "name": "stdout",
     "output_type": "stream",
     "text": [
      "Name: Somesh Singh\n",
      "Roll Number: 233025921\n",
      "Name: Somesh Singh\n",
      "Roll Number: 233025921\n",
      "Q1/Q2: Distorted -> final recovery match to original? True\n",
      "Hamming distance from original after recovery: 0\n"
     ]
    }
   ],
   "source": [
    "patterns, shape = create_base_patterns((8,8))\n",
    "N = patterns.shape[1]\n",
    "hop = Hopfield(N)\n",
    "hop.store_patterns(patterns)\n",
    "\n",
    "# show stored patterns\n",
    "for i,p in enumerate(patterns):\n",
    "    plot_pattern(p, shape, f\"Stored Pattern {i}\", f\"lab9_plots/pattern_{i}.png\")\n",
    "\n",
    "# Print the name and roll number\n",
    "print(\"Name: Somesh Singh\")\n",
    "print(\"Roll Number: 233025921\")\n",
    "\n",
    "# Distort a stored pattern (flip some bits)\n",
    "def distort_pattern(p, flip_fraction=0.2):\n",
    "    s = p.copy()\n",
    "    n_flip = int(len(s) * flip_fraction)\n",
    "    idx = np.random.choice(len(s), size=n_flip, replace=False)\n",
    "    s[idx] *= -1\n",
    "    return s, idx\n",
    "\n",
    "orig = patterns[0]\n",
    "distorted, flipped_idx = distort_pattern(orig, flip_fraction=0.25)\n",
    "plot_pattern(distorted, shape, \"Distorted Input (25%)\", \"lab9_plots/distorted_input.png\")\n",
    "\n",
    "# Run asynchronous updates and record energy\n",
    "final_state, history = hop.asynchronous_update(distorted.copy(), steps=10, random_order=True)\n",
    "energies = [hop.energy(s) for s in history]\n",
    "\n",
    "# save intermediate patterns and energy plot\n",
    "for t,s in enumerate(history):\n",
    "    plot_pattern(s, shape, f\"Step {t}\", f\"lab9_plots/reconstruct_step_{t}.png\")\n",
    "\n",
    "plt.figure()\n",
    "plt.plot(energies, marker='o')\n",
    "plt.title(\"Energy over asynchronous updates (recovery)\")\n",
    "plt.xlabel(\"Update step\"); plt.ylabel(\"Energy\")\n",
    "plt.savefig(\"lab9_plots/energy_recovery.png\", dpi=150, bbox_inches='tight')\n",
    "plt.close()\n",
    "\n",
    "# print match result\n",
    "print(\"Q1/Q2: Distorted -> final recovery match to original?\",\n",
    "      np.array_equal(final_state, orig))\n",
    "print(\"Hamming distance from original after recovery:\",\n",
    "      np.sum(final_state != orig))"
   ]
  },
  {
   "cell_type": "markdown",
   "id": "949b125d",
   "metadata": {
    "papermill": {
     "duration": 0.003619,
     "end_time": "2025-10-02T06:07:01.013576",
     "exception": false,
     "start_time": "2025-10-02T06:07:01.009957",
     "status": "completed"
    },
    "tags": []
   },
   "source": [
    "**Q3. Visualize the energy function and how it evolves over time.**"
   ]
  },
  {
   "cell_type": "code",
   "execution_count": 6,
   "id": "1e04f4dc",
   "metadata": {
    "execution": {
     "iopub.execute_input": "2025-10-02T06:07:01.023290Z",
     "iopub.status.busy": "2025-10-02T06:07:01.022327Z",
     "iopub.status.idle": "2025-10-02T06:07:01.344810Z",
     "shell.execute_reply": "2025-10-02T06:07:01.343782Z"
    },
    "papermill": {
     "duration": 0.32929,
     "end_time": "2025-10-02T06:07:01.346660",
     "exception": false,
     "start_time": "2025-10-02T06:07:01.017370",
     "status": "completed"
    },
    "tags": []
   },
   "outputs": [
    {
     "name": "stdout",
     "output_type": "stream",
     "text": [
      "Name: Somesh Singh\n",
      "Roll Number: 233025921\n"
     ]
    }
   ],
   "source": [
    "def test_recall_from_random(hop, patterns, trials=5, steps=20):\n",
    "    results = []\n",
    "    for t in range(trials):\n",
    "        # random initial state\n",
    "        init = bipolar(np.random.randint(0,2,size=N))\n",
    "        s, hist = hop.asynchronous_update(init.copy(), steps=steps)\n",
    "        E = [hop.energy(h) for h in hist]\n",
    "        results.append((init, hist, E))\n",
    "    return results\n",
    "\n",
    "rand_results = test_recall_from_random(hop, patterns, trials=4, steps=15)\n",
    "# plot energies\n",
    "plt.figure()\n",
    "for i,(_,_,E) in enumerate(rand_results):\n",
    "    plt.plot(E, label=f\"trial {i}\")\n",
    "plt.title(\"Q3: Energy descent from random starts\")\n",
    "plt.xlabel(\"asynchronous update steps\"); plt.ylabel(\"Energy\"); plt.legend()\n",
    "\n",
    "# Print the name and roll number\n",
    "print(\"Name: Somesh Singh\")\n",
    "print(\"Roll Number: 233025921\")\n",
    "\n",
    "plt.savefig(\"lab9_plots/energy_random_starts.png\", dpi=150, bbox_inches='tight')\n",
    "plt.close()"
   ]
  },
  {
   "cell_type": "markdown",
   "id": "2ec6f384",
   "metadata": {
    "papermill": {
     "duration": 0.00375,
     "end_time": "2025-10-02T06:07:01.354611",
     "exception": false,
     "start_time": "2025-10-02T06:07:01.350861",
     "status": "completed"
    },
    "tags": []
   },
   "source": [
    "**Q4. Show the use of attractors in memory recall from partial input.**"
   ]
  },
  {
   "cell_type": "code",
   "execution_count": 7,
   "id": "ac27cb00",
   "metadata": {
    "execution": {
     "iopub.execute_input": "2025-10-02T06:07:01.364070Z",
     "iopub.status.busy": "2025-10-02T06:07:01.363743Z",
     "iopub.status.idle": "2025-10-02T06:07:01.531443Z",
     "shell.execute_reply": "2025-10-02T06:07:01.530264Z"
    },
    "papermill": {
     "duration": 0.174392,
     "end_time": "2025-10-02T06:07:01.533277",
     "exception": false,
     "start_time": "2025-10-02T06:07:01.358885",
     "status": "completed"
    },
    "tags": []
   },
   "outputs": [
    {
     "name": "stdout",
     "output_type": "stream",
     "text": [
      "Name: Somesh Singh\n",
      "Roll Number: 233025921\n",
      "Q4: Partial -> matches stored pattern? True\n"
     ]
    }
   ],
   "source": [
    "def partial_input_recall(hop, pattern, mask_fraction=0.5, steps=15):\n",
    "    s = pattern.copy()\n",
    "    # mask positions: set to random -1/+1 (unknown)\n",
    "    n_mask = int(len(s) * mask_fraction)\n",
    "    mask_idx = np.random.choice(len(s), size=n_mask, replace=False)\n",
    "    s[mask_idx] = np.random.choice([-1,1], size=n_mask)\n",
    "    final, history = hop.asynchronous_update(s, steps=steps)\n",
    "    return s, final, history\n",
    "\n",
    "# Print the name and roll number\n",
    "print(\"Name: Somesh Singh\")\n",
    "print(\"Roll Number: 233025921\")\n",
    "\n",
    "partial_in, recovered, hist_p = partial_input_recall(hop, patterns[1], mask_fraction=0.4, steps=12)\n",
    "plot_pattern(partial_in, shape, \"Partial input (40% masked)\", \"lab9_plots/partial_input.png\")\n",
    "plot_pattern(recovered, shape, \"Recovered from partial\", \"lab9_plots/partial_recovered.png\")\n",
    "print(\"Q4: Partial -> matches stored pattern?\", np.array_equal(recovered, patterns[1]))"
   ]
  },
  {
   "cell_type": "markdown",
   "id": "b7d9188e",
   "metadata": {
    "papermill": {
     "duration": 0.003714,
     "end_time": "2025-10-02T06:07:01.541059",
     "exception": false,
     "start_time": "2025-10-02T06:07:01.537345",
     "status": "completed"
    },
    "tags": []
   },
   "source": [
    "**Q5. Demonstrate failure case: store too many patterns, observe instability.**"
   ]
  },
  {
   "cell_type": "code",
   "execution_count": 8,
   "id": "652b6736",
   "metadata": {
    "execution": {
     "iopub.execute_input": "2025-10-02T06:07:01.550674Z",
     "iopub.status.busy": "2025-10-02T06:07:01.550244Z",
     "iopub.status.idle": "2025-10-02T06:07:02.854809Z",
     "shell.execute_reply": "2025-10-02T06:07:02.853543Z"
    },
    "papermill": {
     "duration": 1.311576,
     "end_time": "2025-10-02T06:07:02.856425",
     "exception": false,
     "start_time": "2025-10-02T06:07:01.544849",
     "status": "completed"
    },
    "tags": []
   },
   "outputs": [
    {
     "name": "stdout",
     "output_type": "stream",
     "text": [
      "Stored P=1 patterns -> retrieval accuracy (after 10% flip): 1.000\n",
      "Stored P=2 patterns -> retrieval accuracy (after 10% flip): 1.000\n",
      "Stored P=3 patterns -> retrieval accuracy (after 10% flip): 1.000\n",
      "Stored P=4 patterns -> retrieval accuracy (after 10% flip): 1.000\n",
      "Stored P=5 patterns -> retrieval accuracy (after 10% flip): 1.000\n",
      "Stored P=6 patterns -> retrieval accuracy (after 10% flip): 1.000\n",
      "Stored P=7 patterns -> retrieval accuracy (after 10% flip): 1.000\n",
      "Stored P=8 patterns -> retrieval accuracy (after 10% flip): 1.000\n",
      "Stored P=9 patterns -> retrieval accuracy (after 10% flip): 0.778\n",
      "Stored P=10 patterns -> retrieval accuracy (after 10% flip): 0.400\n",
      "Stored P=11 patterns -> retrieval accuracy (after 10% flip): 0.545\n",
      "Stored P=12 patterns -> retrieval accuracy (after 10% flip): 0.500\n",
      "Stored P=13 patterns -> retrieval accuracy (after 10% flip): 0.308\n",
      "Stored P=14 patterns -> retrieval accuracy (after 10% flip): 0.286\n",
      "Stored P=15 patterns -> retrieval accuracy (after 10% flip): 0.333\n",
      "Stored P=16 patterns -> retrieval accuracy (after 10% flip): 0.062\n",
      "Stored P=17 patterns -> retrieval accuracy (after 10% flip): 0.118\n",
      "Stored P=18 patterns -> retrieval accuracy (after 10% flip): 0.111\n",
      "Stored P=19 patterns -> retrieval accuracy (after 10% flip): 0.000\n",
      "Stored P=20 patterns -> retrieval accuracy (after 10% flip): 0.000\n",
      "Stored P=21 patterns -> retrieval accuracy (after 10% flip): 0.000\n",
      "Stored P=22 patterns -> retrieval accuracy (after 10% flip): 0.000\n",
      "Stored P=23 patterns -> retrieval accuracy (after 10% flip): 0.000\n",
      "Stored P=24 patterns -> retrieval accuracy (after 10% flip): 0.000\n",
      "Stored P=25 patterns -> retrieval accuracy (after 10% flip): 0.000\n",
      "Name: Somesh Singh\n",
      "Roll Number: 233025921\n",
      "Q5 example: when overloaded, final equals original? False\n"
     ]
    }
   ],
   "source": [
    "def retrieval_accuracy(hop, patterns, flips=0.1, steps=10):\n",
    "    accuracies = []\n",
    "    for p in patterns:\n",
    "        distorted, _ = distort_pattern(p, flip_fraction=flips)\n",
    "        final, _ = hop.asynchronous_update(distorted.copy(), steps=steps)\n",
    "        accuracies.append(np.array_equal(final, p))\n",
    "    return np.mean(accuracies)\n",
    "\n",
    "max_patterns = int(0.4 * N)  # go up to 40% of N (will exceed capacity)\n",
    "pattern_list = []\n",
    "# generate random bipolar patterns\n",
    "for pcount in range(1, max_patterns+1):\n",
    "    # add a new random pattern\n",
    "    newp = bipolar(np.random.randint(0,2,size=N))\n",
    "    pattern_list.append(newp)\n",
    "\n",
    "results = []\n",
    "P_list = list(range(1, max_patterns+1, max(1, max_patterns//20)))\n",
    "for P in P_list:\n",
    "    hop.store_patterns(pattern_list[:P])\n",
    "    acc = retrieval_accuracy(hop, pattern_list[:P], flips=0.1, steps=15)\n",
    "    results.append((P, acc))\n",
    "    print(f\"Stored P={P} patterns -> retrieval accuracy (after 10% flip): {acc:.3f}\")\n",
    "\n",
    "# Print the name and roll number\n",
    "print(\"Name: Somesh Singh\")\n",
    "print(\"Roll Number: 233025921\")\n",
    "\n",
    "# Plot accuracy vs P\n",
    "Ps = [r[0] for r in results]\n",
    "Accs = [r[1] for r in results]\n",
    "plt.figure()\n",
    "plt.plot(Ps, Accs, '-o')\n",
    "plt.axvline(0.14*N, color='red', linestyle='--', label='approx capacity 0.14*N')\n",
    "plt.xlabel(\"Number of stored patterns P\")\n",
    "plt.ylabel(\"Retrieval accuracy\")\n",
    "plt.title(\"Q5: Retrieval accuracy vs number of stored patterns (capacity)\")\n",
    "plt.legend()\n",
    "plt.savefig(\"lab9_plots/retrieval_vs_P.png\", dpi=150, bbox_inches='tight')\n",
    "plt.close()\n",
    "\n",
    "# Also show an example of spurious state when overloaded\n",
    "# store many patterns and try to recall one\n",
    "P_over = int(0.3 * N)\n",
    "hop.store_patterns(pattern_list[:P_over])\n",
    "pidx = 0\n",
    "p = pattern_list[pidx]\n",
    "distorted, _ = distort_pattern(p, flip_fraction=0.2)\n",
    "final, hist_over = hop.asynchronous_update(distorted.copy(), steps=30)\n",
    "plot_pattern(distorted, shape, \"Overloaded: Distorted input\", \"lab9_plots/overload_distorted.png\")\n",
    "plot_pattern(final, shape, \"Overloaded: Final (may be spurious)\", \"lab9_plots/overload_final.png\")\n",
    "print(\"Q5 example: when overloaded, final equals original?\", np.array_equal(final, p))"
   ]
  },
  {
   "cell_type": "markdown",
   "id": "6e3eae90",
   "metadata": {
    "papermill": {
     "duration": 0.004106,
     "end_time": "2025-10-02T06:07:02.865098",
     "exception": false,
     "start_time": "2025-10-02T06:07:02.860992",
     "status": "completed"
    },
    "tags": []
   },
   "source": [
    "# -------------------------\n",
    "# Summary of saved plots\n",
    "# -------------------------"
   ]
  },
  {
   "cell_type": "code",
   "execution_count": 9,
   "id": "fab75bbb",
   "metadata": {
    "execution": {
     "iopub.execute_input": "2025-10-02T06:07:02.875289Z",
     "iopub.status.busy": "2025-10-02T06:07:02.874978Z",
     "iopub.status.idle": "2025-10-02T06:07:02.881967Z",
     "shell.execute_reply": "2025-10-02T06:07:02.880625Z"
    },
    "papermill": {
     "duration": 0.014501,
     "end_time": "2025-10-02T06:07:02.883834",
     "exception": false,
     "start_time": "2025-10-02T06:07:02.869333",
     "status": "completed"
    },
    "tags": []
   },
   "outputs": [
    {
     "name": "stdout",
     "output_type": "stream",
     "text": [
      "\n",
      "Saved plots (lab9_plots/):\n",
      "lab9_plots/pattern_0.png\n",
      "lab9_plots/pattern_1.png\n",
      "lab9_plots/pattern_2.png\n",
      "lab9_plots/distorted_input.png\n",
      "lab9_plots/reconstruct_step_0.png\n",
      "lab9_plots/reconstruct_step_1.png\n",
      "lab9_plots/reconstruct_step_2.png\n",
      "lab9_plots/reconstruct_step_3.png\n",
      "lab9_plots/reconstruct_step_4.png\n",
      "lab9_plots/reconstruct_step_5.png\n",
      "lab9_plots/energy_recovery.png\n",
      "lab9_plots/energy_random_starts.png\n",
      "lab9_plots/partial_input.png\n",
      "lab9_plots/partial_recovered.png\n",
      "lab9_plots/retrieval_vs_P.png\n",
      "lab9_plots/overload_distorted.png\n",
      "lab9_plots/overload_final.png\n",
      "Name: Somesh Singh\n",
      "Roll Number: 233025921\n"
     ]
    }
   ],
   "source": [
    "print(\"\\nSaved plots (lab9_plots/):\")\n",
    "saved = [\n",
    " \"pattern_0.png\", \"pattern_1.png\", \"pattern_2.png\",\n",
    " \"distorted_input.png\",\n",
    " \"reconstruct_step_0.png\", \"reconstruct_step_1.png\", \"reconstruct_step_2.png\",\n",
    " \"reconstruct_step_3.png\", \"reconstruct_step_4.png\", \"reconstruct_step_5.png\",\n",
    " \"energy_recovery.png\",\n",
    " \"energy_random_starts.png\",\n",
    " \"partial_input.png\", \"partial_recovered.png\",\n",
    " \"retrieval_vs_P.png\",\n",
    " \"overload_distorted.png\", \"overload_final.png\"\n",
    "]\n",
    "for p in saved:\n",
    "    print(\"lab9_plots/\" + p)\n",
    "\n",
    "# Print the name and roll number\n",
    "print(\"Name: Somesh Singh\")\n",
    "print(\"Roll Number: 233025921\")"
   ]
  }
 ],
 "metadata": {
  "kaggle": {
   "accelerator": "none",
   "dataSources": [],
   "dockerImageVersionId": 31089,
   "isGpuEnabled": false,
   "isInternetEnabled": true,
   "language": "python",
   "sourceType": "notebook"
  },
  "kernelspec": {
   "display_name": "Python 3",
   "language": "python",
   "name": "python3"
  },
  "language_info": {
   "codemirror_mode": {
    "name": "ipython",
    "version": 3
   },
   "file_extension": ".py",
   "mimetype": "text/x-python",
   "name": "python",
   "nbconvert_exporter": "python",
   "pygments_lexer": "ipython3",
   "version": "3.11.13"
  },
  "papermill": {
   "default_parameters": {},
   "duration": 10.045041,
   "end_time": "2025-10-02T06:07:03.409343",
   "environment_variables": {},
   "exception": null,
   "input_path": "__notebook__.ipynb",
   "output_path": "__notebook__.ipynb",
   "parameters": {},
   "start_time": "2025-10-02T06:06:53.364302",
   "version": "2.6.0"
  }
 },
 "nbformat": 4,
 "nbformat_minor": 5
}
