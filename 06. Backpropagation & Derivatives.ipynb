{
 "cells": [
  {
   "cell_type": "markdown",
   "id": "1b50a0d1",
   "metadata": {
    "papermill": {
     "duration": 0.004337,
     "end_time": "2025-10-02T05:37:13.843300",
     "exception": false,
     "start_time": "2025-10-02T05:37:13.838963",
     "status": "completed"
    },
    "tags": []
   },
   "source": [
    "# <center>Lab Sheet 6</center>\n",
    "# <center>Backpropagation & Derivatives</center>"
   ]
  },
  {
   "cell_type": "code",
   "execution_count": 1,
   "id": "df80da05",
   "metadata": {
    "execution": {
     "iopub.execute_input": "2025-10-02T05:37:13.853452Z",
     "iopub.status.busy": "2025-10-02T05:37:13.853027Z",
     "iopub.status.idle": "2025-10-02T05:37:13.864826Z",
     "shell.execute_reply": "2025-10-02T05:37:13.863366Z"
    },
    "papermill": {
     "duration": 0.019028,
     "end_time": "2025-10-02T05:37:13.866953",
     "exception": false,
     "start_time": "2025-10-02T05:37:13.847925",
     "status": "completed"
    },
    "tags": []
   },
   "outputs": [
    {
     "name": "stdout",
     "output_type": "stream",
     "text": [
      "Name: Somesh Singh\n",
      "Roll Number: 233025921\n"
     ]
    }
   ],
   "source": [
    "import numpy as np\n",
    "import matplotlib.pyplot as plt\n",
    "from typing import List\n",
    "\n",
    "# Print the name and roll number\n",
    "print(\"Name: Somesh Singh\")\n",
    "print(\"Roll Number: 233025921\")"
   ]
  },
  {
   "cell_type": "markdown",
   "id": "dca6444f",
   "metadata": {
    "papermill": {
     "duration": 0.00359,
     "end_time": "2025-10-02T05:37:13.874730",
     "exception": false,
     "start_time": "2025-10-02T05:37:13.871140",
     "status": "completed"
    },
    "tags": []
   },
   "source": [
    "# --------- Utilities ---------"
   ]
  },
  {
   "cell_type": "code",
   "execution_count": 2,
   "id": "17dccc76",
   "metadata": {
    "execution": {
     "iopub.execute_input": "2025-10-02T05:37:13.884415Z",
     "iopub.status.busy": "2025-10-02T05:37:13.884094Z",
     "iopub.status.idle": "2025-10-02T05:37:13.891523Z",
     "shell.execute_reply": "2025-10-02T05:37:13.890357Z"
    },
    "papermill": {
     "duration": 0.015002,
     "end_time": "2025-10-02T05:37:13.894161",
     "exception": false,
     "start_time": "2025-10-02T05:37:13.879159",
     "status": "completed"
    },
    "tags": []
   },
   "outputs": [
    {
     "name": "stdout",
     "output_type": "stream",
     "text": [
      "Name: Somesh Singh\n",
      "Roll Number: 233025921\n"
     ]
    }
   ],
   "source": [
    "def sigmoid(x: np.ndarray) -> np.ndarray:\n",
    "    return 1.0 / (1.0 + np.exp(-x))\n",
    "\n",
    "\n",
    "def sigmoid_deriv_from_preact(z: np.ndarray) -> np.ndarray:\n",
    "    s = sigmoid(z)\n",
    "    return s * (1 - s)\n",
    "\n",
    "# Print the name and roll number\n",
    "print(\"Name: Somesh Singh\")\n",
    "print(\"Roll Number: 233025921\")\n",
    "\n",
    "def mse_loss(y_pred: np.ndarray, y_true: np.ndarray) -> float:\n",
    "    return float(np.mean((y_pred - y_true) ** 2))\n",
    "\n",
    "\n",
    "def mse_grad(y_pred: np.ndarray, y_true: np.ndarray) -> np.ndarray:\n",
    "    # gradient of MSE w.r.t. y_pred (elementwise)\n",
    "    return 2 * (y_pred - y_true) / y_true.size"
   ]
  },
  {
   "cell_type": "markdown",
   "id": "2784e0cb",
   "metadata": {
    "papermill": {
     "duration": 0.003631,
     "end_time": "2025-10-02T05:37:13.901909",
     "exception": false,
     "start_time": "2025-10-02T05:37:13.898278",
     "status": "completed"
    },
    "tags": []
   },
   "source": [
    "**Q1. Manually implement backpropagation algorithm for a 3-layer MLP.**"
   ]
  },
  {
   "cell_type": "code",
   "execution_count": 3,
   "id": "29489a4b",
   "metadata": {
    "execution": {
     "iopub.execute_input": "2025-10-02T05:37:13.912104Z",
     "iopub.status.busy": "2025-10-02T05:37:13.911745Z",
     "iopub.status.idle": "2025-10-02T05:37:13.924451Z",
     "shell.execute_reply": "2025-10-02T05:37:13.923490Z"
    },
    "papermill": {
     "duration": 0.020447,
     "end_time": "2025-10-02T05:37:13.926161",
     "exception": false,
     "start_time": "2025-10-02T05:37:13.905714",
     "status": "completed"
    },
    "tags": []
   },
   "outputs": [],
   "source": [
    "class ManualMLP:\n",
    "    \"\"\"Simple 1-hidden-layer MLP for regression (identity output)\n",
    "    Architecture: input_dim -> hidden_dim (sigmoid) -> output_dim\n",
    "    \"\"\"\n",
    "    def __init__(self, input_dim:int, hidden_dim:int, output_dim:int, seed:int=0, init_scale:float=0.5):\n",
    "        rng = np.random.RandomState(seed)\n",
    "        self.W1 = rng.randn(hidden_dim, input_dim) * init_scale\n",
    "        self.b1 = np.zeros((hidden_dim, 1))\n",
    "        self.W2 = rng.randn(output_dim, hidden_dim) * init_scale\n",
    "        self.b2 = np.zeros((output_dim, 1))\n",
    "        # gradient placeholders\n",
    "        self.grads = {}\n",
    "        \n",
    "        # Print the name and roll number\n",
    "        print(\"Name: Somesh Singh\")\n",
    "        print(\"Roll Number: 233025921\")\n",
    "    \n",
    "    def forward(self, X: np.ndarray) -> np.ndarray:\n",
    "        # X shape: (input_dim, batch)\n",
    "        self.X = X\n",
    "        self.Z1 = self.W1.dot(X) + self.b1   # pre-activation hidden\n",
    "        self.A1 = sigmoid(self.Z1)           # activation hidden\n",
    "        self.Z2 = self.W2.dot(self.A1) + self.b2  # pre-activation output\n",
    "        self.A2 = self.Z2  # identity output\n",
    "        return self.A2\n",
    "\n",
    "    def compute_loss(self, Y_pred: np.ndarray, Y_true: np.ndarray) -> float:\n",
    "        return mse_loss(Y_pred, Y_true)\n",
    "\n",
    "    def backward(self, Y_true: np.ndarray) -> dict:\n",
    "        # Y_true shape: (output_dim, batch)\n",
    "        m = Y_true.shape[1]\n",
    "        dA2 = mse_grad(self.A2, Y_true)  # (output_dim, batch)\n",
    "        dZ2 = dA2  # identity derivative\n",
    "        dW2 = (1.0/m) * dZ2.dot(self.A1.T)\n",
    "        db2 = (1.0/m) * np.sum(dZ2, axis=1, keepdims=True)\n",
    "        dA1 = self.W2.T.dot(dZ2)\n",
    "        dZ1 = dA1 * sigmoid_deriv_from_preact(self.Z1)\n",
    "        dW1 = (1.0/m) * dZ1.dot(self.X.T)\n",
    "        db1 = (1.0/m) * np.sum(dZ1, axis=1, keepdims=True)\n",
    "        self.grads = {'dW1': dW1, 'db1': db1, 'dW2': dW2, 'db2': db2}\n",
    "        return self.grads\n",
    "\n",
    "    def step(self, lr:float=0.1):\n",
    "        self.W1 -= lr * self.grads['dW1']\n",
    "        self.b1 -= lr * self.grads['db1']\n",
    "        self.W2 -= lr * self.grads['dW2']\n",
    "        self.b2 -= lr * self.grads['db2']"
   ]
  },
  {
   "cell_type": "markdown",
   "id": "5b09e37b",
   "metadata": {
    "papermill": {
     "duration": 0.004056,
     "end_time": "2025-10-02T05:37:13.935066",
     "exception": false,
     "start_time": "2025-10-02T05:37:13.931010",
     "status": "completed"
    },
    "tags": []
   },
   "source": [
    "**Q2. Derive and verify gradients using symbolic differentiation (SymPy).**"
   ]
  },
  {
   "cell_type": "code",
   "execution_count": 4,
   "id": "44950119",
   "metadata": {
    "execution": {
     "iopub.execute_input": "2025-10-02T05:37:13.944314Z",
     "iopub.status.busy": "2025-10-02T05:37:13.943989Z",
     "iopub.status.idle": "2025-10-02T05:37:13.951852Z",
     "shell.execute_reply": "2025-10-02T05:37:13.950690Z"
    },
    "papermill": {
     "duration": 0.015152,
     "end_time": "2025-10-02T05:37:13.954174",
     "exception": false,
     "start_time": "2025-10-02T05:37:13.939022",
     "status": "completed"
    },
    "tags": []
   },
   "outputs": [],
   "source": [
    "def symbolic_gradients_example():\n",
    "    try:\n",
    "        import sympy as sp\n",
    "    except ImportError:\n",
    "        print(\"SymPy not installed — skipping symbolic differentiation.\")\n",
    "        return None\n",
    "\n",
    "        # Print the name and roll number\n",
    "        print(\"Name: Somesh Singh\")\n",
    "        print(\"Roll Number: 233025921\")\n",
    "\n",
    "    # Define symbols\n",
    "    x, w1, b1, w2, b2, y_true = sp.symbols('x w1 b1 w2 b2 y_true', real=True)\n",
    "    z1 = w1 * x + b1\n",
    "    a1 = 1 / (1 + sp.exp(-z1))  # sigmoid\n",
    "    z2 = w2 * a1 + b2\n",
    "    y_pred = z2\n",
    "    loss = (y_pred - y_true) ** 2  # single-sample MSE\n",
    "\n",
    "    dloss_dw2 = sp.simplify(sp.diff(loss, w2))\n",
    "    dloss_db2 = sp.simplify(sp.diff(loss, b2))\n",
    "    dloss_dw1 = sp.simplify(sp.diff(loss, w1))\n",
    "    dloss_db1 = sp.simplify(sp.diff(loss, b1))\n",
    "\n",
    "    return {\n",
    "        'dloss_dw2': dloss_dw2,\n",
    "        'dloss_db2': dloss_db2,\n",
    "        'dloss_dw1': dloss_dw1,\n",
    "        'dloss_db1': dloss_db1,\n",
    "    }"
   ]
  },
  {
   "cell_type": "markdown",
   "id": "e5f507e5",
   "metadata": {
    "papermill": {
     "duration": 0.003707,
     "end_time": "2025-10-02T05:37:13.962172",
     "exception": false,
     "start_time": "2025-10-02T05:37:13.958465",
     "status": "completed"
    },
    "tags": []
   },
   "source": [
    "**Q3. Train the model on small dataset and plot gradient flow through layers.**"
   ]
  },
  {
   "cell_type": "code",
   "execution_count": 5,
   "id": "c803005f",
   "metadata": {
    "execution": {
     "iopub.execute_input": "2025-10-02T05:37:13.972433Z",
     "iopub.status.busy": "2025-10-02T05:37:13.972069Z",
     "iopub.status.idle": "2025-10-02T05:37:13.984764Z",
     "shell.execute_reply": "2025-10-02T05:37:13.983651Z"
    },
    "papermill": {
     "duration": 0.020484,
     "end_time": "2025-10-02T05:37:13.986622",
     "exception": false,
     "start_time": "2025-10-02T05:37:13.966138",
     "status": "completed"
    },
    "tags": []
   },
   "outputs": [
    {
     "name": "stdout",
     "output_type": "stream",
     "text": [
      "Name: Somesh Singh\n",
      "Roll Number: 233025921\n"
     ]
    }
   ],
   "source": [
    "def make_sine_dataset(n_samples:int=200, noise:float=0.1, seed:int=1):\n",
    "    rng = np.random.RandomState(seed)\n",
    "    X = rng.uniform(-1, 1, (1, n_samples))\n",
    "    Y = np.sin(2 * np.pi * X) + noise * rng.randn(1, n_samples)\n",
    "    return X, Y\n",
    "\n",
    "# Print the name and roll number\n",
    "print(\"Name: Somesh Singh\")\n",
    "print(\"Roll Number: 233025921\")\n",
    "\n",
    "def train_manual_mlp():\n",
    "    # dataset\n",
    "    X, Y = make_sine_dataset()\n",
    "    # train/test split\n",
    "    split = int(0.8 * X.shape[1])\n",
    "    X_train, Y_train = X[:, :split], Y[:, :split]\n",
    "    X_test, Y_test = X[:, split:], Y[:, split:]\n",
    "\n",
    "    # model\n",
    "    model = ManualMLP(input_dim=1, hidden_dim=10, output_dim=1, seed=42, init_scale=0.5)\n",
    "\n",
    "    epochs = 600\n",
    "    lr = 0.5\n",
    "    grad_norms = {'dW1': [], 'dW2': [], 'db1': [], 'db2': []}\n",
    "    losses = []\n",
    "\n",
    "    for ep in range(epochs):\n",
    "        y_pred = model.forward(X_train)\n",
    "        loss = model.compute_loss(y_pred, Y_train)\n",
    "        model.backward(Y_train)\n",
    "        # record norms\n",
    "        for k, v in model.grads.items():\n",
    "            grad_norms[k].append(float(np.linalg.norm(v)))\n",
    "        losses.append(loss)\n",
    "        model.step(lr)\n",
    "\n",
    "    # evaluate test\n",
    "    y_test_pred = model.forward(X_test)\n",
    "    test_loss = model.compute_loss(y_test_pred, Y_test)\n",
    "\n",
    "    # plots\n",
    "    plt.figure(figsize=(8,4))\n",
    "    plt.plot(grad_norms['dW1'], label='||dW1||')\n",
    "    plt.plot(grad_norms['dW2'], label='||dW2||')\n",
    "    plt.plot(grad_norms['db1'], label='||db1||')\n",
    "    plt.plot(grad_norms['db2'], label='||db2||')\n",
    "    plt.title('Gradient L2 norms across epochs (manual MLP)')\n",
    "    plt.xlabel('Epoch')\n",
    "    plt.ylabel('L2 norm')\n",
    "    plt.legend()\n",
    "    plt.tight_layout()\n",
    "    plt.show()\n",
    "\n",
    "    plt.figure(figsize=(6,3))\n",
    "    plt.plot(losses)\n",
    "    plt.title('Training loss (manual MLP)')\n",
    "    plt.xlabel('Epoch')\n",
    "    plt.ylabel('MSE')\n",
    "    plt.tight_layout()\n",
    "    plt.show()\n",
    "\n",
    "    print(f\"Final train loss: {losses[-1]:.6f}; Test loss: {test_loss:.6f}\")\n",
    "    return model, (X_train, Y_train, X_test, Y_test), grad_norms, losses"
   ]
  },
  {
   "cell_type": "markdown",
   "id": "46c54f96",
   "metadata": {
    "papermill": {
     "duration": 0.003847,
     "end_time": "2025-10-02T05:37:13.994905",
     "exception": false,
     "start_time": "2025-10-02T05:37:13.991058",
     "status": "completed"
    },
    "tags": []
   },
   "source": [
    "**Q4. Show impact of vanishing gradients using deep Sigmoid networks.**"
   ]
  },
  {
   "cell_type": "code",
   "execution_count": 6,
   "id": "7cb9a57b",
   "metadata": {
    "execution": {
     "iopub.execute_input": "2025-10-02T05:37:14.004517Z",
     "iopub.status.busy": "2025-10-02T05:37:14.004161Z",
     "iopub.status.idle": "2025-10-02T05:37:14.020847Z",
     "shell.execute_reply": "2025-10-02T05:37:14.019572Z"
    },
    "papermill": {
     "duration": 0.023797,
     "end_time": "2025-10-02T05:37:14.022656",
     "exception": false,
     "start_time": "2025-10-02T05:37:13.998859",
     "status": "completed"
    },
    "tags": []
   },
   "outputs": [
    {
     "name": "stdout",
     "output_type": "stream",
     "text": [
      "Name: Somesh Singh\n",
      "Roll Number: 233025921\n"
     ]
    }
   ],
   "source": [
    "def init_deep_sigmoid(layer_sizes: List[int], scale:float=0.5, seed:int=0):\n",
    "    rng = np.random.RandomState(seed)\n",
    "    params = []\n",
    "    for i in range(len(layer_sizes)-1):\n",
    "        W = rng.randn(layer_sizes[i+1], layer_sizes[i]) * scale\n",
    "        b = np.zeros((layer_sizes[i+1], 1))\n",
    "        params.append({'W': W, 'b': b})\n",
    "    return params\n",
    "\n",
    "\n",
    "def forward_deep(params: List[dict], X: np.ndarray):\n",
    "    activations = [X]\n",
    "    preacts = []\n",
    "    A = X\n",
    "    for layer in params:\n",
    "        Z = layer['W'].dot(A) + layer['b']\n",
    "        preacts.append(Z)\n",
    "        A = sigmoid(Z)\n",
    "        activations.append(A)\n",
    "    return activations, preacts\n",
    "\n",
    "\n",
    "# Print the name and roll number\n",
    "print(\"Name: Somesh Singh\")\n",
    "print(\"Roll Number: 233025921\")\n",
    "\n",
    "def backward_deep(params: List[dict], activations: List[np.ndarray], preacts: List[np.ndarray], Y: np.ndarray):\n",
    "    m = Y.shape[1]\n",
    "    L = len(params)\n",
    "    grads = [None] * L\n",
    "    A_L = activations[-1]\n",
    "    dA = mse_grad(A_L, Y)\n",
    "    for l in reversed(range(L)):\n",
    "        Z = preacts[l]\n",
    "        A_prev = activations[l]\n",
    "        dZ = dA * sigmoid_deriv_from_preact(Z)\n",
    "        dW = (1.0/m) * dZ.dot(A_prev.T)\n",
    "        db = (1.0/m) * np.sum(dZ, axis=1, keepdims=True)\n",
    "        grads[l] = {'dW': dW, 'db': db}\n",
    "        dA = params[l]['W'].T.dot(dZ)\n",
    "    return grads\n",
    "\n",
    "\n",
    "def vanishing_gradients_demo(depth:int=20, width:int=8):\n",
    "    X, Y = make_sine_dataset(n_samples=160)  # use training-ish data\n",
    "    layer_sizes = [1] + [width] * depth + [1]\n",
    "    params = init_deep_sigmoid(layer_sizes, scale=0.5, seed=7)\n",
    "    activations, preacts = forward_deep(params, X)\n",
    "    grads = backward_deep(params, activations, preacts, Y)\n",
    "    grad_norms = [float(np.linalg.norm(g['dW'])) for g in grads]\n",
    "\n",
    "    # print a summary (first 10 and last 3)\n",
    "    print('Gradient norms (dW) per layer — showing first 10 and last 3:')\n",
    "    for i, gn in enumerate(grad_norms[:10]):\n",
    "        print(f\"Layer {i+1} dW norm: {gn:.6e}\")\n",
    "    print('...')\n",
    "    for i, gn in enumerate(grad_norms[-3:], start=len(grad_norms)-2):\n",
    "        print(f\"Layer {i+1} dW norm: {gn:.6e}\")\n",
    "\n",
    "    # plot across layers\n",
    "    plt.figure(figsize=(8,4))\n",
    "    plt.plot(range(1, len(grad_norms)+1), grad_norms, marker='o')\n",
    "    plt.title('Vanishing gradients: gradient norms across deep sigmoid network')\n",
    "    plt.xlabel('Layer index (input -> output)')\n",
    "    plt.ylabel('L2 norm of dW')\n",
    "    plt.tight_layout()\n",
    "    plt.show()\n",
    "\n",
    "    return grad_norms"
   ]
  },
  {
   "cell_type": "markdown",
   "id": "d3f176df",
   "metadata": {
    "papermill": {
     "duration": 0.003651,
     "end_time": "2025-10-02T05:37:14.030506",
     "exception": false,
     "start_time": "2025-10-02T05:37:14.026855",
     "status": "completed"
    },
    "tags": []
   },
   "source": [
    "**Q5. Use TensorFlow or PyTorch to replicate the same model and compare gradients.**"
   ]
  },
  {
   "cell_type": "code",
   "execution_count": 7,
   "id": "a4f15f96",
   "metadata": {
    "execution": {
     "iopub.execute_input": "2025-10-02T05:37:14.041953Z",
     "iopub.status.busy": "2025-10-02T05:37:14.041311Z",
     "iopub.status.idle": "2025-10-02T05:37:14.073191Z",
     "shell.execute_reply": "2025-10-02T05:37:14.071853Z"
    },
    "papermill": {
     "duration": 0.039701,
     "end_time": "2025-10-02T05:37:14.075174",
     "exception": false,
     "start_time": "2025-10-02T05:37:14.035473",
     "status": "completed"
    },
    "tags": []
   },
   "outputs": [
    {
     "name": "stdout",
     "output_type": "stream",
     "text": [
      "Name: Somesh Singh\n",
      "Roll Number: 233025921\n"
     ]
    }
   ],
   "source": [
    "def pytorch_compare(manual_model: ManualMLP, X_np: np.ndarray, Y_np: np.ndarray):\n",
    "    try:\n",
    "        import torch\n",
    "        import torch.nn as nn\n",
    "    except ImportError:\n",
    "        print('PyTorch not installed — skipping PyTorch comparison.')\n",
    "        return None\n",
    "\n",
    "    class TorchMLP(nn.Module):\n",
    "        def __init__(self):\n",
    "            super().__init__()\n",
    "            self.fc1 = nn.Linear(1, manual_model.W1.shape[0])\n",
    "            self.act = nn.Sigmoid()\n",
    "            self.fc2 = nn.Linear(manual_model.W1.shape[0], 1)\n",
    "        def forward(self, x):\n",
    "            x = self.fc1(x)\n",
    "            x = self.act(x)\n",
    "            x = self.fc2(x)\n",
    "            return x\n",
    "\n",
    "    t_model = TorchMLP()\n",
    "    # copy weights\n",
    "    with torch.no_grad():\n",
    "        t_model.fc1.weight.copy_(torch.tensor(manual_model.W1, dtype=torch.float32))\n",
    "        t_model.fc1.bias.copy_(torch.tensor(manual_model.b1.flatten(), dtype=torch.float32))\n",
    "        t_model.fc2.weight.copy_(torch.tensor(manual_model.W2, dtype=torch.float32))\n",
    "        t_model.fc2.bias.copy_(torch.tensor(manual_model.b2.flatten(), dtype=torch.float32))\n",
    "\n",
    "    # prepare batch of size <= available\n",
    "    batch = min(32, X_np.shape[1])\n",
    "    X_batch = torch.tensor(X_np[:, :batch].T, dtype=torch.float32)  # shape (batch, in)\n",
    "    Y_batch = torch.tensor(Y_np[:, :batch].T, dtype=torch.float32)\n",
    "\n",
    "    t_model.zero_grad()\n",
    "    out = t_model(X_batch)\n",
    "    loss_fn = nn.MSELoss()\n",
    "    loss = loss_fn(out, Y_batch)\n",
    "    loss.backward()\n",
    "\n",
    "    torch_grads = {\n",
    "        'dW1': t_model.fc1.weight.grad.detach().numpy().copy(),\n",
    "        'db1': t_model.fc1.bias.grad.detach().numpy().copy(),\n",
    "        'dW2': t_model.fc2.weight.grad.detach().numpy().copy(),\n",
    "        'db2': t_model.fc2.bias.grad.detach().numpy().copy(),\n",
    "    }\n",
    "    torch_summary = {k: float(np.linalg.norm(v)) for k, v in torch_grads.items()}\n",
    "\n",
    "    # manual grads on same batch\n",
    "    _ = manual_model.forward(X_np[:, :batch])\n",
    "    manual_grads = manual_model.backward(Y_np[:, :batch])\n",
    "    manual_summary = {k: float(np.linalg.norm(v)) for k, v in manual_grads.items()}\n",
    "\n",
    "    print('\\nPyTorch gradient norms (L2)')\n",
    "    for k, v in torch_summary.items():\n",
    "        print(f\"{k}: {v:.6e}\")\n",
    "    print('\\nManual gradient norms (L2) on same batch')\n",
    "    for k, v in manual_summary.items():\n",
    "        print(f\"{k}: {v:.6e}\")\n",
    "\n",
    "    # bar chart comparison\n",
    "    keys = ['dW1', 'dW2', 'db1', 'db2']\n",
    "    manual_vals = [manual_summary[k] for k in keys]\n",
    "    torch_vals = [torch_summary[k] for k in keys]\n",
    "\n",
    "    x = np.arange(len(keys))\n",
    "    width = 0.35\n",
    "    plt.figure(figsize=(7,3))\n",
    "    plt.bar(x - width/2, manual_vals, width=width, label='Manual')\n",
    "    plt.bar(x + width/2, torch_vals, width=width, label='PyTorch')\n",
    "    plt.xticks(x, keys)\n",
    "    plt.ylabel('L2 norm')\n",
    "    plt.title('Gradient norm comparison — Manual vs PyTorch')\n",
    "    plt.legend()\n",
    "    plt.tight_layout()\n",
    "    plt.show()\n",
    "\n",
    "    return torch_summary, manual_summary\n",
    "\n",
    "\n",
    "# Print the name and roll number\n",
    "print(\"Name: Somesh Singh\")\n",
    "print(\"Roll Number: 233025921\")\n",
    "\n",
    "def tensorflow_compare(manual_model: ManualMLP, X_np: np.ndarray, Y_np: np.ndarray):\n",
    "    try:\n",
    "        import tensorflow as tf\n",
    "    except ImportError:\n",
    "        print('TensorFlow not installed — skipping TensorFlow comparison.')\n",
    "        return None\n",
    "\n",
    "    # Build a tiny model in TF keras\n",
    "    tf.random.set_seed(0)\n",
    "    model = tf.keras.Sequential([\n",
    "        tf.keras.layers.InputLayer(input_shape=(1,)),\n",
    "        tf.keras.layers.Dense(manual_model.W1.shape[0], activation='sigmoid', use_bias=True),\n",
    "        tf.keras.layers.Dense(1, activation='linear', use_bias=True)\n",
    "    ])\n",
    "\n",
    "    # set weights from manual model\n",
    "    # Keras Dense weights format: [kernel, bias] with kernel shape (in_dim, out_dim)\n",
    "    # Our manual W1 is (hidden, in); need to transpose\n",
    "    w1_tf = manual_model.W1.T.copy()\n",
    "    b1_tf = manual_model.b1.flatten().copy()\n",
    "    w2_tf = manual_model.W2.T.copy()\n",
    "    b2_tf = manual_model.b2.flatten().copy()\n",
    "\n",
    "    model.layers[0].set_weights([w1_tf, b1_tf])\n",
    "    model.layers[1].set_weights([w2_tf, b2_tf])\n",
    "\n",
    "    # run a forward/backward with GradientTape\n",
    "    batch = min(32, X_np.shape[1])\n",
    "    X_batch = X_np[:, :batch].T  # shape (batch, in)\n",
    "    Y_batch = Y_np[:, :batch].T\n",
    "\n",
    "    X_tf = tf.convert_to_tensor(X_batch, dtype=tf.float32)\n",
    "    Y_tf = tf.convert_to_tensor(Y_batch, dtype=tf.float32)\n",
    "\n",
    "    with tf.GradientTape() as tape:\n",
    "        preds = model(X_tf, training=True)\n",
    "        loss = tf.reduce_mean(tf.square(preds - Y_tf))\n",
    "    grads = tape.gradient(loss, model.trainable_variables)\n",
    "\n",
    "    # grads ordering: [dense1_kernel, dense1_bias, dense2_kernel, dense2_bias]\n",
    "    tf_summary = {\n",
    "        'dW1': float(tf.norm(grads[0]).numpy()),\n",
    "        'db1': float(tf.norm(grads[1]).numpy()),\n",
    "        'dW2': float(tf.norm(grads[2]).numpy()),\n",
    "        'db2': float(tf.norm(grads[3]).numpy()),\n",
    "    }\n",
    "\n",
    "    # manual grads\n",
    "    _ = manual_model.forward(X_np[:, :batch])\n",
    "    manual_grads = manual_model.backward(Y_np[:, :batch])\n",
    "    manual_summary = {k: float(np.linalg.norm(v)) for k, v in manual_grads.items()}\n",
    "\n",
    "    print('\\nTensorFlow gradient norms (L2)')\n",
    "    for k, v in tf_summary.items():\n",
    "        print(f\"{k}: {v:.6e}\")\n",
    "    print('\\nManual gradient norms (L2) on same batch')\n",
    "    for k, v in manual_summary.items():\n",
    "        print(f\"{k}: {v:.6e}\")\n",
    "\n",
    "    # comparison plot\n",
    "    keys = ['dW1', 'dW2', 'db1', 'db2']\n",
    "    manual_vals = [manual_summary[k] for k in keys]\n",
    "    tf_vals = [tf_summary[k] for k in keys]\n",
    "\n",
    "    x = np.arange(len(keys))\n",
    "    width = 0.35\n",
    "    plt.figure(figsize=(7,3))\n",
    "    plt.bar(x - width/2, manual_vals, width=width, label='Manual')\n",
    "    plt.bar(x + width/2, tf_vals, width=width, label='TensorFlow')\n",
    "    plt.xticks(x, keys)\n",
    "    plt.ylabel('L2 norm')\n",
    "    plt.title('Gradient norm comparison — Manual vs TensorFlow')\n",
    "    plt.legend()\n",
    "    plt.tight_layout()\n",
    "    plt.show()\n",
    "\n",
    "    return tf_summary, manual_summary"
   ]
  },
  {
   "cell_type": "markdown",
   "id": "877d7bce",
   "metadata": {
    "papermill": {
     "duration": 0.0056,
     "end_time": "2025-10-02T05:37:14.085056",
     "exception": false,
     "start_time": "2025-10-02T05:37:14.079456",
     "status": "completed"
    },
    "tags": []
   },
   "source": [
    "# --------- Main runner for the lab ---------"
   ]
  },
  {
   "cell_type": "code",
   "execution_count": 8,
   "id": "0e16e87f",
   "metadata": {
    "execution": {
     "iopub.execute_input": "2025-10-02T05:37:14.095385Z",
     "iopub.status.busy": "2025-10-02T05:37:14.095073Z",
     "iopub.status.idle": "2025-10-02T05:37:50.299483Z",
     "shell.execute_reply": "2025-10-02T05:37:50.297927Z"
    },
    "papermill": {
     "duration": 36.212644,
     "end_time": "2025-10-02T05:37:50.301986",
     "exception": false,
     "start_time": "2025-10-02T05:37:14.089342",
     "status": "completed"
    },
    "tags": []
   },
   "outputs": [
    {
     "name": "stdout",
     "output_type": "stream",
     "text": [
      "--- Lab Sheet 6: Backpropagation & Derivatives ---\n",
      "Name: Somesh Singh\n",
      "Roll Number: 233025921\n"
     ]
    },
    {
     "data": {
      "image/png": "[encoded data removed]",
      "text/plain": [
       "<Figure size 800x400 with 1 Axes>"
      ]
     },
     "metadata": {},
     "output_type": "display_data"
    },
    {
     "data": {
      "image/png": "[encoded data removed]",
      "text/plain": [
       "<Figure size 600x300 with 1 Axes>"
      ]
     },
     "metadata": {},
     "output_type": "display_data"
    },
    {
     "name": "stdout",
     "output_type": "stream",
     "text": [
      "Final train loss: 0.428725; Test loss: 0.422481\n",
      "\n",
      "Symbolic gradients (example expressions):\n",
      "dloss_dw2 = (w2*exp(b1 + w1*x) + (b2 - y_true)*(exp(b1 + w1*x) + 1))/(2*cosh(b1/2 + w1*x/2)**2)\n",
      "\n",
      "dloss_db2 = 2*(w2*exp(b1 + w1*x) + (b2 - y_true)*(exp(b1 + w1*x) + 1))/(exp(b1 + w1*x) + 1)\n",
      "\n",
      "dloss_dw1 = 2*w2*x*(w2*exp(b1 + w1*x) + (b2 - y_true)*(exp(b1 + w1*x) + 1))*exp(b1 + w1*x)/(exp(b1 + w1*x) + 1)**3\n",
      "\n",
      "dloss_db1 = 2*w2*(w2*exp(b1 + w1*x) + (b2 - y_true)*(exp(b1 + w1*x) + 1))*exp(b1 + w1*x)/(exp(b1 + w1*x) + 1)**3\n",
      "\n",
      "Name: Somesh Singh\n",
      "Roll Number: 233025921\n",
      "\n",
      "Running vanishing gradients demo (deep sigmoid)...\n",
      "Gradient norms (dW) per layer — showing first 10 and last 3:\n",
      "Layer 1 dW norm: 6.790632e-15\n",
      "Layer 2 dW norm: 7.760766e-14\n",
      "Layer 3 dW norm: 2.322543e-13\n",
      "Layer 4 dW norm: 1.031003e-12\n",
      "Layer 5 dW norm: 3.373590e-12\n",
      "Layer 6 dW norm: 1.115762e-11\n",
      "Layer 7 dW norm: 3.266355e-11\n",
      "Layer 8 dW norm: 1.157072e-10\n",
      "Layer 9 dW norm: 3.905237e-10\n",
      "Layer 10 dW norm: 9.733448e-10\n",
      "...\n",
      "Layer 20 dW norm: 1.163504e-04\n",
      "Layer 21 dW norm: 4.157711e-04\n",
      "Layer 22 dW norm: 2.410968e-03\n"
     ]
    },
    {
     "data": {
      "image/png": "[encoded data removed]",
      "text/plain": [
       "<Figure size 800x400 with 1 Axes>"
      ]
     },
     "metadata": {},
     "output_type": "display_data"
    },
    {
     "name": "stdout",
     "output_type": "stream",
     "text": [
      "\n",
      "PyTorch gradient norms (L2)\n",
      "dW1: 9.203947e-02\n",
      "db1: 4.663504e-02\n",
      "dW2: 2.932934e-01\n",
      "db2: 1.433563e-01\n",
      "\n",
      "Manual gradient norms (L2) on same batch\n",
      "dW1: 2.876233e-03\n",
      "db1: 1.457346e-03\n",
      "dW2: 9.165423e-03\n",
      "db2: 4.479887e-03\n"
     ]
    },
    {
     "data": {
      "image/png": "[encoded data removed]",
      "text/plain": [
       "<Figure size 700x300 with 1 Axes>"
      ]
     },
     "metadata": {},
     "output_type": "display_data"
    },
    {
     "name": "stderr",
     "output_type": "stream",
     "text": [
      "2025-10-02 05:37:28.003065: E external/local_xla/xla/stream_executor/cuda/cuda_fft.cc:477] Unable to register cuFFT factory: Attempting to register factory for plugin cuFFT when one has already been registered\n",
      "WARNING: All log messages before absl::InitializeLog() is called are written to STDERR\n",
      "E0000 00:00:1759383448.294016      13 cuda_dnn.cc:8310] Unable to register cuDNN factory: Attempting to register factory for plugin cuDNN when one has already been registered\n",
      "E0000 00:00:1759383448.367388      13 cuda_blas.cc:1418] Unable to register cuBLAS factory: Attempting to register factory for plugin cuBLAS when one has already been registered\n",
      "/usr/local/lib/python3.11/dist-packages/keras/src/layers/core/input_layer.py:27: UserWarning: Argument `input_shape` is deprecated. Use `shape` instead.\n",
      "  warnings.warn(\n",
      "2025-10-02 05:37:49.868895: E external/local_xla/xla/stream_executor/cuda/cuda_driver.cc:152] failed call to cuInit: INTERNAL: CUDA error: Failed call to cuInit: UNKNOWN ERROR (303)\n"
     ]
    },
    {
     "name": "stdout",
     "output_type": "stream",
     "text": [
      "\n",
      "TensorFlow gradient norms (L2)\n",
      "dW1: 9.203947e-02\n",
      "db1: 4.663505e-02\n",
      "dW2: 2.932934e-01\n",
      "db2: 1.433563e-01\n",
      "\n",
      "Manual gradient norms (L2) on same batch\n",
      "dW1: 2.876233e-03\n",
      "db1: 1.457346e-03\n",
      "dW2: 9.165423e-03\n",
      "db2: 4.479887e-03\n"
     ]
    },
    {
     "data": {
      "image/png": "[encoded data removed]",
      "text/plain": [
       "<Figure size 700x300 with 1 Axes>"
      ]
     },
     "metadata": {},
     "output_type": "display_data"
    },
    {
     "name": "stdout",
     "output_type": "stream",
     "text": [
      "\n",
      "Finished lab script. Modify depths, widths, and init scales to experiment further.\n"
     ]
    }
   ],
   "source": [
    "if __name__ == '__main__':\n",
    "    print('--- Lab Sheet 6: Backpropagation & Derivatives ---')\n",
    "\n",
    "    # 1+3: train manual MLP and show gradient flow\n",
    "    manual_model, data, grad_norms, losses = train_manual_mlp()\n",
    "\n",
    "    # 2: symbolic gradients\n",
    "    sym_res = symbolic_gradients_example()\n",
    "    if sym_res is not None:\n",
    "        print('\\nSymbolic gradients (example expressions):')\n",
    "        for k,v in sym_res.items():\n",
    "            print(f\"{k} = {v}\\n\")\n",
    "            \n",
    "        # Print the name and roll number\n",
    "        print(\"Name: Somesh Singh\")\n",
    "        print(\"Roll Number: 233025921\")\n",
    "\n",
    "    # 4: vanishing gradients demo\n",
    "    print('\\nRunning vanishing gradients demo (deep sigmoid)...')\n",
    "    vanishing_grad_norms = vanishing_gradients_demo(depth=20, width=8)\n",
    "\n",
    "    # 5: try PyTorch compare\n",
    "    X_train, Y_train, X_test, Y_test = data\n",
    "    try:\n",
    "        pytorch_compare(manual_model, X_train, Y_train)\n",
    "    except Exception as e:\n",
    "        print('PyTorch comparison failed or not available:', e)\n",
    "\n",
    "    # 5b: try TensorFlow compare\n",
    "    try:\n",
    "        tensorflow_compare(manual_model, X_train, Y_train)\n",
    "    except Exception as e:\n",
    "        print('TensorFlow comparison failed or not available:', e)\n",
    "\n",
    "    print('\\nFinished lab script. Modify depths, widths, and init scales to experiment further.')"
   ]
  }
 ],
 "metadata": {
  "kaggle": {
   "accelerator": "none",
   "dataSources": [],
   "dockerImageVersionId": 31089,
   "isGpuEnabled": false,
   "isInternetEnabled": true,
   "language": "python",
   "sourceType": "notebook"
  },
  "kernelspec": {
   "display_name": "Python 3",
   "language": "python",
   "name": "python3"
  },
  "language_info": {
   "codemirror_mode": {
    "name": "ipython",
    "version": 3
   },
   "file_extension": ".py",
   "mimetype": "text/x-python",
   "name": "python",
   "nbconvert_exporter": "python",
   "pygments_lexer": "ipython3",
   "version": "3.11.13"
  },
  "papermill": {
   "default_parameters": {},
   "duration": 46.040815,
   "end_time": "2025-10-02T05:37:53.437992",
   "environment_variables": {},
   "exception": null,
   "input_path": "__notebook__.ipynb",
   "output_path": "__notebook__.ipynb",
   "parameters": {},
   "start_time": "2025-10-02T05:37:07.397177",
   "version": "2.6.0"
  }
 },
 "nbformat": 4,
 "nbformat_minor": 5
}
