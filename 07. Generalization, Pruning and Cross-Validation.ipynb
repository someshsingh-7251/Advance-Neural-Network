{
 "cells": [
  {
   "cell_type": "markdown",
   "id": "80cf63af",
   "metadata": {
    "papermill": {
     "duration": 0.003471,
     "end_time": "2025-09-24T15:55:31.094009",
     "exception": false,
     "start_time": "2025-09-24T15:55:31.090538",
     "status": "completed"
    },
    "tags": []
   },
   "source": [
    "# <center>Lab Sheet 7</center> <center>Generalization, Pruning, and Cross-Validation</center>"
   ]
  },
  {
   "cell_type": "code",
   "execution_count": 1,
   "id": "74a81f20",
   "metadata": {
    "execution": {
     "iopub.execute_input": "2025-09-24T15:55:31.101716Z",
     "iopub.status.busy": "2025-09-24T15:55:31.101366Z",
     "iopub.status.idle": "2025-09-24T15:55:38.026471Z",
     "shell.execute_reply": "2025-09-24T15:55:38.025504Z"
    },
    "papermill": {
     "duration": 6.930756,
     "end_time": "2025-09-24T15:55:38.028182",
     "exception": false,
     "start_time": "2025-09-24T15:55:31.097426",
     "status": "completed"
    },
    "tags": []
   },
   "outputs": [
    {
     "data": {
      "text/plain": [
       "<torch._C.Generator at 0x797ae9d76330>"
      ]
     },
     "execution_count": 1,
     "metadata": {},
     "output_type": "execute_result"
    }
   ],
   "source": [
    "import numpy as np\n",
    "import matplotlib.pyplot as plt\n",
    "from sklearn.datasets import make_moons\n",
    "from sklearn.model_selection import KFold, train_test_split\n",
    "from sklearn.metrics import accuracy_score\n",
    "import torch\n",
    "import torch.nn as nn\n",
    "import torch.optim as optim\n",
    "\n",
    "np.random.seed(42)\n",
    "torch.manual_seed(42)"
   ]
  },
  {
   "cell_type": "markdown",
   "id": "2daed88f",
   "metadata": {
    "papermill": {
     "duration": 0.002776,
     "end_time": "2025-09-24T15:55:38.034449",
     "exception": false,
     "start_time": "2025-09-24T15:55:38.031673",
     "status": "completed"
    },
    "tags": []
   },
   "source": [
    "# Dataset: 2D Moons (small + non-linear, good for demo)"
   ]
  },
  {
   "cell_type": "code",
   "execution_count": 2,
   "id": "cf08b97a",
   "metadata": {
    "execution": {
     "iopub.execute_input": "2025-09-24T15:55:38.042163Z",
     "iopub.status.busy": "2025-09-24T15:55:38.041680Z",
     "iopub.status.idle": "2025-09-24T15:55:38.099391Z",
     "shell.execute_reply": "2025-09-24T15:55:38.098328Z"
    },
    "papermill": {
     "duration": 0.063541,
     "end_time": "2025-09-24T15:55:38.101145",
     "exception": false,
     "start_time": "2025-09-24T15:55:38.037604",
     "status": "completed"
    },
    "tags": []
   },
   "outputs": [],
   "source": [
    "X, y = make_moons(n_samples=500, noise=0.2, random_state=42)\n",
    "X_train, X_val, y_train, y_val = train_test_split(X, y, test_size=0.2, random_state=42)\n",
    "\n",
    "X_train_t = torch.tensor(X_train, dtype=torch.float32)\n",
    "y_train_t = torch.tensor(y_train, dtype=torch.long)\n",
    "X_val_t   = torch.tensor(X_val, dtype=torch.float32)\n",
    "y_val_t   = torch.tensor(y_val, dtype=torch.long)"
   ]
  },
  {
   "cell_type": "markdown",
   "id": "75393210",
   "metadata": {
    "papermill": {
     "duration": 0.002687,
     "end_time": "2025-09-24T15:55:38.107071",
     "exception": false,
     "start_time": "2025-09-24T15:55:38.104384",
     "status": "completed"
    },
    "tags": []
   },
   "source": [
    "**Q1.Train MLP on a small dataset with 5-fold cross-validation.**"
   ]
  },
  {
   "cell_type": "code",
   "execution_count": 3,
   "id": "70aaf91a",
   "metadata": {
    "execution": {
     "iopub.execute_input": "2025-09-24T15:55:38.114393Z",
     "iopub.status.busy": "2025-09-24T15:55:38.114013Z",
     "iopub.status.idle": "2025-09-24T15:55:46.960691Z",
     "shell.execute_reply": "2025-09-24T15:55:46.959565Z"
    },
    "papermill": {
     "duration": 8.852316,
     "end_time": "2025-09-24T15:55:46.962335",
     "exception": false,
     "start_time": "2025-09-24T15:55:38.110019",
     "status": "completed"
    },
    "tags": []
   },
   "outputs": [
    {
     "name": "stdout",
     "output_type": "stream",
     "text": [
      "Fold 1: final val acc=0.970\n",
      "Fold 2: final val acc=0.980\n",
      "Fold 3: final val acc=0.980\n",
      "Fold 4: final val acc=0.990\n",
      "Fold 5: final val acc=0.930\n",
      "Q1: 5-fold CV mean accuracy: 0.97\n"
     ]
    }
   ],
   "source": [
    "class SimpleMLP(nn.Module):\n",
    "    def __init__(self, hidden=16, dropout=0.0):\n",
    "        super().__init__()\n",
    "        self.net = nn.Sequential(\n",
    "            nn.Linear(2, hidden),\n",
    "            nn.ReLU(),\n",
    "            nn.Dropout(dropout),\n",
    "            nn.Linear(hidden, 2)\n",
    "        )\n",
    "    def forward(self,x):\n",
    "        return self.net(x)\n",
    "\n",
    "def train_eval(model, Xtr, ytr, Xval, yval, epochs=100, lr=0.01):\n",
    "    opt = optim.Adam(model.parameters(), lr=lr)\n",
    "    loss_fn = nn.CrossEntropyLoss()\n",
    "    train_losses, val_accs = [], []\n",
    "    for ep in range(epochs):\n",
    "        # train\n",
    "        opt.zero_grad()\n",
    "        out = model(Xtr)\n",
    "        loss = loss_fn(out, ytr)\n",
    "        loss.backward()\n",
    "        opt.step()\n",
    "        train_losses.append(loss.item())\n",
    "\n",
    "        # validation accuracy\n",
    "        with torch.no_grad():\n",
    "            val_pred = model(Xval).argmax(1)\n",
    "            acc = accuracy_score(yval, val_pred.numpy())\n",
    "            val_accs.append(acc)\n",
    "    return train_losses, val_accs\n",
    "\n",
    "kf = KFold(n_splits=5, shuffle=True, random_state=42)\n",
    "cv_accs = []\n",
    "for fold,(tr,val) in enumerate(kf.split(X,y)):\n",
    "    Xtr, Xv = torch.tensor(X[tr],dtype=torch.float32), torch.tensor(X[val],dtype=torch.float32)\n",
    "    ytr, yv = torch.tensor(y[tr],dtype=torch.long), torch.tensor(y[val],dtype=torch.long)\n",
    "    model = SimpleMLP()\n",
    "    _, val_acc = train_eval(model,Xtr,ytr,Xv,yv,epochs=200)\n",
    "    cv_accs.append(val_acc[-1])\n",
    "    print(f\"Fold {fold+1}: final val acc={val_acc[-1]:.3f}\")\n",
    "print(\"Q1: 5-fold CV mean accuracy:\", np.mean(cv_accs))"
   ]
  },
  {
   "cell_type": "markdown",
   "id": "9fb5dbcf",
   "metadata": {
    "papermill": {
     "duration": 0.003004,
     "end_time": "2025-09-24T15:55:46.969386",
     "exception": false,
     "start_time": "2025-09-24T15:55:46.966382",
     "status": "completed"
    },
    "tags": []
   },
   "source": [
    "**2. Add dropout layers to improve generalization — compare accuracy.**"
   ]
  },
  {
   "cell_type": "code",
   "execution_count": 4,
   "id": "e8cc5752",
   "metadata": {
    "execution": {
     "iopub.execute_input": "2025-09-24T15:55:46.977654Z",
     "iopub.status.busy": "2025-09-24T15:55:46.977125Z",
     "iopub.status.idle": "2025-09-24T15:55:47.778344Z",
     "shell.execute_reply": "2025-09-24T15:55:47.777336Z"
    },
    "papermill": {
     "duration": 0.807624,
     "end_time": "2025-09-24T15:55:47.780308",
     "exception": false,
     "start_time": "2025-09-24T15:55:46.972684",
     "status": "completed"
    },
    "tags": []
   },
   "outputs": [
    {
     "name": "stdout",
     "output_type": "stream",
     "text": [
      "Q2: Final validation acc with dropout: 0.88\n"
     ]
    }
   ],
   "source": [
    "drop_model = SimpleMLP(dropout=0.3)\n",
    "train_loss, val_acc = train_eval(drop_model, X_train_t,y_train_t,X_val_t,y_val_t,epochs=200)\n",
    "print(\"Q2: Final validation acc with dropout:\", val_acc[-1])\n",
    "\n",
    "plt.figure()\n",
    "plt.plot(val_acc,label=\"Dropout=0.3\")\n",
    "plt.xlabel(\"Epoch\"); plt.ylabel(\"Validation Accuracy\")\n",
    "plt.title(\"Q2: Dropout Effect\")\n",
    "plt.legend()\n",
    "plt.savefig(\"lab7_q2_dropout.png\",dpi=150,bbox_inches=\"tight\"); plt.close()"
   ]
  },
  {
   "cell_type": "markdown",
   "id": "15d76e87",
   "metadata": {
    "papermill": {
     "duration": 0.00309,
     "end_time": "2025-09-24T15:55:47.786997",
     "exception": false,
     "start_time": "2025-09-24T15:55:47.783907",
     "status": "completed"
    },
    "tags": []
   },
   "source": [
    "**3. Implement weight pruning (zeroing low-magnitude weights) and re-train.**"
   ]
  },
  {
   "cell_type": "code",
   "execution_count": 5,
   "id": "b9f6d707",
   "metadata": {
    "execution": {
     "iopub.execute_input": "2025-09-24T15:55:47.795178Z",
     "iopub.status.busy": "2025-09-24T15:55:47.794831Z",
     "iopub.status.idle": "2025-09-24T15:55:48.551849Z",
     "shell.execute_reply": "2025-09-24T15:55:48.550938Z"
    },
    "papermill": {
     "duration": 0.76337,
     "end_time": "2025-09-24T15:55:48.553599",
     "exception": false,
     "start_time": "2025-09-24T15:55:47.790229",
     "status": "completed"
    },
    "tags": []
   },
   "outputs": [
    {
     "name": "stdout",
     "output_type": "stream",
     "text": [
      "Before pruning val acc: 0.96\n",
      "After pruning + retrain val acc: 0.99\n"
     ]
    }
   ],
   "source": [
    "prune_model = SimpleMLP()\n",
    "_ , base_acc = train_eval(prune_model,X_train_t,y_train_t,X_val_t,y_val_t,epochs=200)\n",
    "print(\"Before pruning val acc:\", base_acc[-1])\n",
    "\n",
    "# prune small weights\n",
    "with torch.no_grad():\n",
    "    for p in prune_model.parameters():\n",
    "        mask = torch.abs(p) < 0.05\n",
    "        p[mask] = 0.0\n",
    "\n",
    "_ , pruned_acc = train_eval(prune_model,X_train_t,y_train_t,X_val_t,y_val_t,epochs=200)\n",
    "print(\"After pruning + retrain val acc:\", pruned_acc[-1])"
   ]
  },
  {
   "cell_type": "markdown",
   "id": "a1cdf629",
   "metadata": {
    "papermill": {
     "duration": 0.003142,
     "end_time": "2025-09-24T15:55:48.560470",
     "exception": false,
     "start_time": "2025-09-24T15:55:48.557328",
     "status": "completed"
    },
    "tags": []
   },
   "source": [
    "**4. Use a validation set to choose model hyperparameters (early stopping).**"
   ]
  },
  {
   "cell_type": "code",
   "execution_count": 6,
   "id": "923821f6",
   "metadata": {
    "execution": {
     "iopub.execute_input": "2025-09-24T15:55:48.568910Z",
     "iopub.status.busy": "2025-09-24T15:55:48.568364Z",
     "iopub.status.idle": "2025-09-24T15:55:48.899403Z",
     "shell.execute_reply": "2025-09-24T15:55:48.898452Z"
    },
    "papermill": {
     "duration": 0.338072,
     "end_time": "2025-09-24T15:55:48.902010",
     "exception": false,
     "start_time": "2025-09-24T15:55:48.563938",
     "status": "completed"
    },
    "tags": []
   },
   "outputs": [
    {
     "name": "stdout",
     "output_type": "stream",
     "text": [
      "Early stopping at epoch 30, best val acc=0.870\n"
     ]
    }
   ],
   "source": [
    "early_model = SimpleMLP()\n",
    "opt = optim.Adam(early_model.parameters(), lr=0.01)\n",
    "loss_fn = nn.CrossEntropyLoss()\n",
    "best_acc, patience, counter = 0, 20, 0\n",
    "history = []\n",
    "for ep in range(300):\n",
    "    opt.zero_grad()\n",
    "    out = early_model(X_train_t)\n",
    "    loss = loss_fn(out,y_train_t)\n",
    "    loss.backward()\n",
    "    opt.step()\n",
    "\n",
    "    with torch.no_grad():\n",
    "        acc = accuracy_score(y_val, early_model(X_val_t).argmax(1).numpy())\n",
    "        history.append(acc)\n",
    "        if acc > best_acc:\n",
    "            best_acc, counter = acc, 0\n",
    "        else:\n",
    "            counter += 1\n",
    "        if counter >= patience:\n",
    "            print(f\"Early stopping at epoch {ep}, best val acc={best_acc:.3f}\")\n",
    "            break\n",
    "\n",
    "plt.figure()\n",
    "plt.plot(history)\n",
    "plt.title(\"Q4: Early Stopping (Val Accuracy)\")\n",
    "plt.xlabel(\"Epoch\"); plt.ylabel(\"Accuracy\")\n",
    "plt.savefig(\"lab7_q4_early_stopping.png\",dpi=150,bbox_inches=\"tight\"); plt.close()"
   ]
  },
  {
   "cell_type": "markdown",
   "id": "0f5ea022",
   "metadata": {
    "papermill": {
     "duration": 0.007293,
     "end_time": "2025-09-24T15:55:48.915934",
     "exception": false,
     "start_time": "2025-09-24T15:55:48.908641",
     "status": "completed"
    },
    "tags": []
   },
   "source": [
    "**5. Visualize overfitting vs generalization with increasing model size.**"
   ]
  },
  {
   "cell_type": "code",
   "execution_count": 7,
   "id": "e5df9699",
   "metadata": {
    "execution": {
     "iopub.execute_input": "2025-09-24T15:55:48.928019Z",
     "iopub.status.busy": "2025-09-24T15:55:48.927046Z",
     "iopub.status.idle": "2025-09-24T15:55:51.688496Z",
     "shell.execute_reply": "2025-09-24T15:55:51.687490Z"
    },
    "papermill": {
     "duration": 2.769501,
     "end_time": "2025-09-24T15:55:51.690234",
     "exception": false,
     "start_time": "2025-09-24T15:55:48.920733",
     "status": "completed"
    },
    "tags": []
   },
   "outputs": [
    {
     "name": "stdout",
     "output_type": "stream",
     "text": [
      "Q5 Results: Train accs: [0.865, 0.98, 0.9875, 0.99]\n",
      "Q5 Results: Val accs: [0.86, 0.98, 0.98, 0.98]\n"
     ]
    }
   ],
   "source": [
    "hidden_sizes = [4,16,64,128]\n",
    "train_accs, val_accs = [], []\n",
    "for h in hidden_sizes:\n",
    "    model = SimpleMLP(hidden=h)\n",
    "    _, val_acc = train_eval(model,X_train_t,y_train_t,X_val_t,y_val_t,epochs=300)\n",
    "    with torch.no_grad():\n",
    "        tr_pred = model(X_train_t).argmax(1)\n",
    "        train_acc = accuracy_score(y_train,tr_pred.numpy())\n",
    "    train_accs.append(train_acc)\n",
    "    val_accs.append(val_acc[-1])\n",
    "\n",
    "plt.figure()\n",
    "plt.plot(hidden_sizes,train_accs,\"-o\",label=\"Train Acc\")\n",
    "plt.plot(hidden_sizes,val_accs,\"-o\",label=\"Val Acc\")\n",
    "plt.xlabel(\"Hidden Layer Size\")\n",
    "plt.ylabel(\"Accuracy\")\n",
    "plt.title(\"Q5: Overfitting vs Generalization\")\n",
    "plt.legend()\n",
    "plt.savefig(\"lab7_q5_overfitting.png\",dpi=150,bbox_inches=\"tight\"); plt.close()\n",
    "\n",
    "print(\"Q5 Results: Train accs:\", train_accs)\n",
    "print(\"Q5 Results: Val accs:\", val_accs)"
   ]
  }
 ],
 "metadata": {
  "kaggle": {
   "accelerator": "none",
   "dataSources": [],
   "dockerImageVersionId": 31089,
   "isGpuEnabled": false,
   "isInternetEnabled": true,
   "language": "python",
   "sourceType": "notebook"
  },
  "kernelspec": {
   "display_name": "Python 3",
   "language": "python",
   "name": "python3"
  },
  "language_info": {
   "codemirror_mode": {
    "name": "ipython",
    "version": 3
   },
   "file_extension": ".py",
   "mimetype": "text/x-python",
   "name": "python",
   "nbconvert_exporter": "python",
   "pygments_lexer": "ipython3",
   "version": "3.11.13"
  },
  "papermill": {
   "default_parameters": {},
   "duration": 28.720087,
   "end_time": "2025-09-24T15:55:54.167606",
   "environment_variables": {},
   "exception": null,
   "input_path": "__notebook__.ipynb",
   "output_path": "__notebook__.ipynb",
   "parameters": {},
   "start_time": "2025-09-24T15:55:25.447519",
   "version": "2.6.0"
  }
 },
 "nbformat": 4,
 "nbformat_minor": 5
}
